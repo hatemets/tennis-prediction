{
 "cells": [
  {
   "cell_type": "code",
   "execution_count": 41,
   "metadata": {},
   "outputs": [],
   "source": [
    "import pandas as pd\n",
    "import numpy as np\n",
    "import matplotlib.pyplot as plt\n",
    "from sklearn.linear_model import LogisticRegression\n",
    "from sklearn.tree import DecisionTreeClassifier\n",
    "from sklearn.metrics import mean_squared_error, log_loss\n",
    "from sklearn.preprocessing import LabelEncoder\n",
    "from sklearn.model_selection import train_test_split, KFold\n",
    "from sklearn.metrics import accuracy_score, confusion_matrix \n",
    "from sklearn import svm\n",
    "import seaborn as sns"
   ]
  },
  {
   "cell_type": "code",
   "execution_count": 16,
   "metadata": {},
   "outputs": [],
   "source": [
    "seed = 42\n",
    "\n",
    "## improve speed by limiting max columns shown at once\n",
    "pd.set_option('display.max_columns', 50)"
   ]
  },
  {
   "cell_type": "markdown",
   "metadata": {},
   "source": [
    "### Merge the match data from 2000-2020"
   ]
  },
  {
   "cell_type": "code",
   "execution_count": 17,
   "metadata": {},
   "outputs": [],
   "source": [
    "frames = []\n",
    "\n",
    "# Add games from years 2000-2020\n",
    "for year in range(2000, 2021):\n",
    "    frames.append(pd.read_csv(\"./data/matches_{}.csv\".format(year)))\n",
    "\n",
    "df = pd.concat(frames)"
   ]
  },
  {
   "cell_type": "markdown",
   "metadata": {},
   "source": [
    "### Clean up the data"
   ]
  },
  {
   "cell_type": "code",
   "execution_count": 18,
   "metadata": {},
   "outputs": [],
   "source": [
    "## irrelevant columns\n",
    "irr_cols = []\n",
    "player_cols = [\"ace\", \"df\", \"svpt\", \"1stIn\", \"1stWon\", \"2ndWon\", \"SvGms\", \"bpSaved\", \"bpFaced\"]\n",
    "general_cols = [\"winner_name\", \"tourney_name\", \"loser_name\", \"winner_ioc\", \"loser_ioc\", \"minutes\", \"score\", \"draw_size\", \"round\", \"loser_seed\", \"loser_entry\", \"loser_rank_points\", \"winner_rank_points\", \"winner_seed\", \"winner_entry\", \"match_num\", \"tourney_id\", \"tourney_level\", \"best_of\"]\n",
    "## add winner/loser cols\n",
    "for el in player_cols:\n",
    "    irr_cols.append(\"w_{}\".format(el))\n",
    "    irr_cols.append(\"l_{}\".format(el))\n",
    "\n",
    "## add the general cols\n",
    "irr_cols.extend(general_cols)\n",
    "\n",
    "## drop irrelevant cols\n",
    "df.drop(columns=irr_cols, inplace=True)\n",
    "\n",
    "## calculate mean height of the players and replace null values with it\n",
    "mean_ht = (df[\"winner_ht\"].mean() + df[\"loser_ht\"].mean()) / 2\n",
    "df.loc[df[\"winner_ht\"].isnull(), \"winner_ht\"] = mean_ht\n",
    "df.loc[df[\"loser_ht\"].isnull(), \"loser_ht\"] = mean_ht\n",
    "\n",
    "## drop empty values\n",
    "df.dropna(axis=0, inplace=True)"
   ]
  },
  {
   "cell_type": "markdown",
   "metadata": {},
   "source": [
    "### Convert numerical values to floats"
   ]
  },
  {
   "cell_type": "code",
   "execution_count": 19,
   "metadata": {},
   "outputs": [],
   "source": [
    "numeric_cols = [\"winner_rank\", \"loser_rank\", \"winner_age\", \"loser_age\", \"winner_ht\", \"loser_ht\"]\n",
    "df[numeric_cols] = df[numeric_cols].astype(float)"
   ]
  },
  {
   "cell_type": "markdown",
   "metadata": {},
   "source": [
    "### Adjust the dataset for performing predictions"
   ]
  },
  {
   "cell_type": "code",
   "execution_count": 22,
   "metadata": {
    "scrolled": false
   },
   "outputs": [],
   "source": [
    "## replace winner/loser with player1 & 2\n",
    "for (colName, colData) in df.iteritems():\n",
    "    if \"winner\" in colName:\n",
    "        endingVal = colName.split(\"_\")[1]\n",
    "        df.rename(columns={colName: \"player1_{}\".format(endingVal)}, inplace=True)\n",
    "    elif \"loser\" in colName:\n",
    "        endingVal = colName.split(\"_\")[1]\n",
    "        df.rename(columns={colName: \"player2_{}\".format(endingVal)}, inplace=True)\n",
    "\n",
    "\n",
    "## swap the labels for half of the values\n",
    "\n",
    "first_half, second_half = df[:int(len(df) / 2)], df[int(len(df) / 2):]\n",
    "first_half.insert(loc=0, column=\"label\", value=1)\n",
    "\n",
    "## swap columns\n",
    "scols = list(second_half.columns)\n",
    "\n",
    "np.warnings.filterwarnings('ignore')\n",
    "\n",
    "## swap the columns for the second half\n",
    "for attr in [\"id\", \"hand\", \"ht\", \"age\", \"rank\"]:\n",
    "    scols[scols.index(\"player1_{}\".format(attr))], scols[scols.index(\"player2_{}\".format(attr))] = scols[scols.index(\"player2_{}\".format(attr))], scols[scols.index(\"player1_{}\".format(attr))]\n",
    "    # second_half.insert(loc=0, column=\"label\", value=0)\n",
    "    second_half[\"label\"] = 0\n",
    "\n",
    "halves = []\n",
    "\n",
    "df = pd.concat([first_half, second_half])\n"
   ]
  },
  {
   "cell_type": "markdown",
   "metadata": {},
   "source": [
    "### Visualize data"
   ]
  },
  {
   "cell_type": "code",
   "execution_count": 23,
   "metadata": {
    "scrolled": false
   },
   "outputs": [
    {
     "data": {
      "image/png": "[encoded data removed]",
      "text/plain": [
       "<Figure size 1296x576 with 4 Axes>"
      ]
     },
     "metadata": {
      "needs_background": "light"
     },
     "output_type": "display_data"
    }
   ],
   "source": [
    "cols = [\"player1_rank\", \"player2_rank\", \"player1_age\", \"player2_age\"]\n",
    "\n",
    "plt.figure(1, figsize=(18, 8))\n",
    "\n",
    "for i in range(len(cols)):\n",
    "    plt.subplot(2, 3, i + 1)\n",
    "    df[cols[i]].plot(kind=\"hist\", title=cols[i])\n",
    "\n",
    "plt.show()"
   ]
  },
  {
   "cell_type": "markdown",
   "metadata": {},
   "source": [
    "### Prepare data for ML models"
   ]
  },
  {
   "cell_type": "code",
   "execution_count": 24,
   "metadata": {},
   "outputs": [],
   "source": [
    "## convert categorical values (player hand, surface) to numbers\n",
    "le = LabelEncoder()\n",
    "df[\"surface\"] = le.fit_transform(df[\"surface\"])\n",
    "df[\"player1_hand\"] = le.fit_transform(df[\"player1_hand\"])\n",
    "df[\"player2_hand\"] = le.fit_transform(df[\"player2_hand\"])\n",
    "\n",
    "## features that will be used in the model\n",
    "features = [\"player1_ht\", \"player2_ht\", \"player1_age\", \"player2_age\", \"player1_rank\", \"player2_rank\", \"surface\", \"player1_hand\", \"player2_hand\"]\n",
    "X = df[features]\n",
    "y = df[\"label\"]\n",
    "\n",
    "kf = KFold(n_splits=3, shuffle=True, random_state=seed)"
   ]
  },
  {
   "cell_type": "markdown",
   "metadata": {},
   "source": [
    "### Logistic Regression"
   ]
  },
  {
   "cell_type": "code",
   "execution_count": 51,
   "metadata": {},
   "outputs": [
    {
     "name": "stdout",
     "output_type": "stream",
     "text": [
      "[[117858 105308]\n",
      " [ 96162 127003]]\n",
      "[[117934 105232]\n",
      " [ 95151 128014]]\n",
      "[[118393 104773]\n",
      " [ 96171 126994]]\n",
      "training accuracy: 0.606928490291\n",
      "training error: 13.5763744637\n",
      "validation accuracy: 0.606818706296\n",
      "validation error: 13.5801662407\n",
      "precision: 0.0\n"
     ]
    }
   ],
   "source": [
    "clf_1 = LogisticRegression()\n",
    "\n",
    "train_accs_lr, val_accs_lr, train_errs_lr, val_errs_lr, precisions_lr = [], [], [], [], []\n",
    "# val_train_accs_lr = []\n",
    "\n",
    "for train_indices, val_indices in kf.split(X):\n",
    "    X_train, X_val, y_train, y_val = X.iloc[train_indices], X.iloc[val_indices], y.iloc[train_indices], y.iloc[val_indices]\n",
    "    \n",
    "    ## training the model\n",
    "    # logistic\n",
    "    clf_1.fit(X_train, y_train)\n",
    "    y_pred_train_1 = clf_1.predict(X_train)\n",
    "    acc_train_1 = clf_1.score(X_train, y_train)\n",
    "    accuracy_1 = clf_1.score(X, y)\n",
    "    \n",
    "    # decision tree\n",
    "    # clf_dectree = DecisionTreeClassifier()\n",
    "    # clf_dectree = clf_dectree.fit(X_train, y_train)\n",
    "    # y_pred = clf_dectree.predict(X_train)\n",
    "\n",
    "\n",
    "    ## validation\n",
    "    y_pred_val_1 = clf_1.predict(X_val)\n",
    "    acc_val_1 = clf_1.score(X_val, y_val)\n",
    "\n",
    "    ## confusion matrix\n",
    "    conf_mat = confusion_matrix(y, np.concatenate([y_pred_train_1, y_pred_val_1]))\n",
    "\n",
    "    ## calculate the precision by dividing TP by (TP + FP)\n",
    "    ## it denotes the proportion of true positives in total positives\n",
    "    true_pos = conf_mat[1][1]\n",
    "    false_pos = conf_mat[0][1]\n",
    "    precision = true_pos * 1.0 / (true_pos + false_pos)\n",
    "\n",
    "\n",
    "    ## errors\n",
    "    err_train = log_loss(y_train, y_pred_train_1)\n",
    "    err_val = log_loss(y_val, y_pred_val_1)\n",
    "\n",
    "    # add results to corresponding containers\n",
    "    train_accs_lr.append(acc_train_1)\n",
    "    val_accs_lr.append(acc_val_1)\n",
    "    train_errs_lr.append(err_train)\n",
    "    val_errs_lr.append(err_val)\n",
    "    print(conf_mat)\n",
    "    precisions_lr.append(precision)\n",
    "\n",
    "print(\"training accuracy: {}\".format(sum(train_accs_lr) * 1.0 / len(train_accs_lr)))\n",
    "print(\"training error: {}\".format(sum(train_errs_lr) * 1.0 / len(train_errs_lr)))\n",
    "print(\"validation accuracy: {}\".format(sum(val_accs_lr) * 1.0 / len(val_accs_lr)))\n",
    "print(\"validation error: {}\".format(sum(val_errs_lr) * 1.0 / len(val_errs_lr)))\n",
    "print(\"precision: {}\".format(sum(precisions_lr) * 1.0 / len(precisions_lr)))\n"
   ]
  },
  {
   "cell_type": "markdown",
   "metadata": {},
   "source": [
    "### Support vector macines"
   ]
  },
  {
   "cell_type": "code",
   "execution_count": 42,
   "metadata": {},
   "outputs": [
    {
     "name": "stdout",
     "output_type": "stream",
     "text": [
      "training accuracy: 0.521836506159\n",
      "validation accuracy: 0.521836506159\n"
     ]
    }
   ],
   "source": [
    "## diminish the array for SVM (depending on GPU-capacity, choose the diminisher value)\n",
    "diminisher = 0.01\n",
    "df_svm = df.sample(int(len(df) * diminisher))\n",
    "\n",
    "X_svm, y_svm = df_svm[features], df_svm[\"label\"]\n",
    "\n",
    "X_svm_train, X_svm_val, y_svm_train, y_svm_val = train_test_split(X_svm, y_svm, test_size=0.2, random_state=42)\n",
    "\n",
    "train_accs = []\n",
    "val_accs = []\n",
    "\n",
    "for i in range(5):\n",
    "    clf_2 = svm.SVC()\n",
    "    clf_2.fit(X_svm_train, y_svm_train)\n",
    "    y_pred_train_2 = clf_2.predict(X_svm_train)\n",
    "    acc_train_2 = clf_2.score(X_svm_val, y_svm_val)\n",
    "    y_pred_val_2 = clf_2.predict(X_svm_val)\n",
    "    acc_val_2 = clf_2.score(X_svm_val, y_svm_val)\n",
    "    \n",
    "    train_accs.append(acc_train_2)\n",
    "    val_accs.append(acc_val_2)\n",
    "\n",
    "\n",
    "print(\"training accuracy: {}\".format(sum(train_accs) * 1.0 / len(train_accs)))\n",
    "print(\"validation accuracy: {}\".format(sum(val_accs) * 1.0 / len(val_accs)))\n"
   ]
  },
  {
   "cell_type": "code",
   "execution_count": null,
   "metadata": {},
   "outputs": [],
   "source": []
  }
 ],
 "metadata": {
  "kernelspec": {
   "display_name": "Python 3 (ipykernel)",
   "language": "python",
   "name": "python3"
  },
  "language_info": {
   "codemirror_mode": {
    "name": "ipython",
    "version": 2
   },
   "file_extension": ".py",
   "mimetype": "text/x-python",
   "name": "python",
   "nbconvert_exporter": "python",
   "pygments_lexer": "ipython2",
   "version": "2.7.16"
  }
 },
 "nbformat": 4,
 "nbformat_minor": 5
}
