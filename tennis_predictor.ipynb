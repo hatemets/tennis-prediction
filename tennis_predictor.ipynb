{
 "cells": [
  {
   "cell_type": "code",
   "execution_count": 5,
   "id": "7c99f724",
   "metadata": {},
   "outputs": [],
   "source": [
    "import pandas as pd\n",
    "import numpy as np\n",
    "import matplotlib.pyplot as plt\n",
    "from sklearn.linear_model import LogisticRegression\n",
    "from sklearn.metrics import mean_squared_error, log_loss\n",
    "from sklearn.preprocessing import LabelEncoder\n",
    "from sklearn.model_selection import train_test_split, KFold\n",
    "from sklearn.metrics import accuracy_score, confusion_matrix \n",
    "from sklearn import svm\n",
    "import seaborn as sns"
   ]
  },
  {
   "cell_type": "code",
   "execution_count": 6,
   "id": "44246a9c",
   "metadata": {},
   "outputs": [],
   "source": [
    "seed = 42\n",
    "\n",
    "## improve speed by limiting max columns shown at once\n",
    "pd.set_option('display.max_columns', 50)"
   ]
  },
  {
   "cell_type": "markdown",
   "id": "098d9e38",
   "metadata": {},
   "source": [
    "### Merge the match data from 2000-2020"
   ]
  },
  {
   "cell_type": "code",
   "execution_count": 7,
   "id": "8e1b493f",
   "metadata": {},
   "outputs": [],
   "source": [
    "frames = []\n",
    "\n",
    "# Add games from years 2000-2020\n",
    "for year in range(2000, 2021):\n",
    "    frames.append(pd.read_csv(f\"./data/matches_{year}.csv\"))\n",
    "\n",
    "df = pd.concat(frames)"
   ]
  },
  {
   "cell_type": "markdown",
   "id": "56f404a7",
   "metadata": {},
   "source": [
    "### Clean up the data"
   ]
  },
  {
   "cell_type": "code",
   "execution_count": 8,
   "id": "dd41f653",
   "metadata": {},
   "outputs": [],
   "source": [
    "## irrelevant columns\n",
    "irr_cols = []\n",
    "player_cols = [\"ace\", \"df\", \"svpt\", \"1stIn\", \"1stWon\", \"2ndWon\", \"SvGms\", \"bpSaved\", \"bpFaced\"]\n",
    "general_cols = [\"winner_name\", \"tourney_name\", \"loser_name\", \"winner_ioc\", \"loser_ioc\", \"minutes\", \"score\", \"draw_size\", \"round\", \"loser_seed\", \"loser_entry\", \"loser_rank_points\", \"winner_rank_points\", \"winner_seed\", \"winner_entry\", \"match_num\", \"tourney_id\", \"tourney_level\", \"best_of\"]\n",
    "## add winner/loser cols\n",
    "for el in player_cols:\n",
    "    irr_cols.append(f\"w_{el}\")\n",
    "    irr_cols.append(f\"l_{el}\")\n",
    "\n",
    "## add the general cols\n",
    "irr_cols.extend(general_cols)\n",
    "\n",
    "## drop irrelevant cols\n",
    "df.drop(columns=irr_cols, inplace=True)\n",
    "\n",
    "## calculate mean height of the players and replace null values with it\n",
    "mean_ht = (df[\"winner_ht\"].mean() + df[\"loser_ht\"].mean()) / 2\n",
    "df.loc[df[\"winner_ht\"].isnull(), \"winner_ht\"] = mean_ht\n",
    "df.loc[df[\"loser_ht\"].isnull(), \"loser_ht\"] = mean_ht\n",
    "\n",
    "## drop empty values\n",
    "df.dropna(axis=0, inplace=True)"
   ]
  },
  {
   "cell_type": "markdown",
   "id": "40cad284",
   "metadata": {},
   "source": [
    "### Convert numerical values to floats"
   ]
  },
  {
   "cell_type": "code",
   "execution_count": 9,
   "id": "17e962ec",
   "metadata": {},
   "outputs": [],
   "source": [
    "numeric_cols = [\"winner_rank\", \"loser_rank\", \"winner_age\", \"loser_age\", \"winner_ht\", \"loser_ht\"]\n",
    "df[numeric_cols] = df[numeric_cols].astype(float)"
   ]
  },
  {
   "cell_type": "markdown",
   "id": "00f15dcc",
   "metadata": {},
   "source": [
    "### Adjust the dataset for performing predictions"
   ]
  },
  {
   "cell_type": "code",
   "execution_count": 10,
   "id": "3062ccc8",
   "metadata": {
    "scrolled": false
   },
   "outputs": [],
   "source": [
    "## replace winner/loser with player1 & 2\n",
    "for (colName, colData) in df.iteritems():\n",
    "    if \"winner\" in colName:\n",
    "        endingVal = colName.split(\"_\")[1]\n",
    "        df.rename(columns={colName: f\"player1_{endingVal}\"}, inplace=True)\n",
    "    elif \"loser\" in colName:\n",
    "        endingVal = colName.split(\"_\")[1]\n",
    "        df.rename(columns={colName: f\"player2_{endingVal}\"}, inplace=True)\n",
    "\n",
    "\n",
    "## swap the labels for half of the values\n",
    "\n",
    "first_half, second_half = df[:int(len(df) / 2)], df[int(len(df) / 2):]\n",
    "first_half.insert(loc=0, column=\"label\", value=1)\n",
    "\n",
    "## swap columns\n",
    "scols = list(second_half.columns)\n",
    "\n",
    "np.warnings.filterwarnings('ignore')\n",
    "\n",
    "## swap the columns for the second half\n",
    "for attr in [\"id\", \"hand\", \"ht\", \"age\", \"rank\"]:\n",
    "    scols[scols.index(f\"player1_{attr}\")], scols[scols.index(f\"player2_{attr}\")] = scols[scols.index(f\"player2_{attr}\")], scols[scols.index(f\"player1_{attr}\")]\n",
    "    # second_half.insert(loc=0, column=\"label\", value=0)\n",
    "    second_half[\"label\"] = 0\n",
    "\n",
    "halves = []\n",
    "\n",
    "df = pd.concat([first_half, second_half])\n"
   ]
  },
  {
   "cell_type": "markdown",
   "id": "3e4a68eb",
   "metadata": {},
   "source": [
    "### Visualize data"
   ]
  },
  {
   "cell_type": "code",
   "execution_count": 42,
   "id": "4b2af06d",
   "metadata": {
    "scrolled": false
   },
   "outputs": [
    {
     "ename": "AttributeError",
     "evalue": "'Rectangle' object has no property 'density'",
     "output_type": "error",
     "traceback": [
      "\u001b[0;31m---------------------------------------------------------------------------\u001b[0m",
      "\u001b[0;31mAttributeError\u001b[0m                            Traceback (most recent call last)",
      "Input \u001b[0;32mIn [42]\u001b[0m, in \u001b[0;36m<cell line: 6>\u001b[0;34m()\u001b[0m\n\u001b[1;32m      6\u001b[0m \u001b[38;5;28;01mfor\u001b[39;00m i \u001b[38;5;129;01min\u001b[39;00m \u001b[38;5;28mrange\u001b[39m(\u001b[38;5;28mlen\u001b[39m(cols)):\n\u001b[1;32m      7\u001b[0m     plt\u001b[38;5;241m.\u001b[39msubplot(\u001b[38;5;241m2\u001b[39m, \u001b[38;5;241m2\u001b[39m, i \u001b[38;5;241m+\u001b[39m \u001b[38;5;241m1\u001b[39m)\n\u001b[0;32m----> 8\u001b[0m     \u001b[43mdf\u001b[49m\u001b[43m[\u001b[49m\u001b[43mcols\u001b[49m\u001b[43m[\u001b[49m\u001b[43mi\u001b[49m\u001b[43m]\u001b[49m\u001b[43m]\u001b[49m\u001b[38;5;241;43m.\u001b[39;49m\u001b[43mplot\u001b[49m\u001b[43m(\u001b[49m\u001b[43mkind\u001b[49m\u001b[38;5;241;43m=\u001b[39;49m\u001b[38;5;124;43m\"\u001b[39;49m\u001b[38;5;124;43mbar\u001b[39;49m\u001b[38;5;124;43m\"\u001b[39;49m\u001b[43m,\u001b[49m\u001b[43m \u001b[49m\u001b[43mdensity\u001b[49m\u001b[38;5;241;43m=\u001b[39;49m\u001b[38;5;28;43;01mTrue\u001b[39;49;00m\u001b[43m,\u001b[49m\u001b[43m \u001b[49m\u001b[43mtitle\u001b[49m\u001b[38;5;241;43m=\u001b[39;49m\u001b[43mcols\u001b[49m\u001b[43m[\u001b[49m\u001b[43mi\u001b[49m\u001b[43m]\u001b[49m\u001b[43m)\u001b[49m\n\u001b[1;32m     10\u001b[0m plt\u001b[38;5;241m.\u001b[39mshow()\n",
      "File \u001b[0;32m~/.local/lib/python3.10/site-packages/pandas/plotting/_core.py:972\u001b[0m, in \u001b[0;36mPlotAccessor.__call__\u001b[0;34m(self, *args, **kwargs)\u001b[0m\n\u001b[1;32m    969\u001b[0m             label_name \u001b[38;5;241m=\u001b[39m label_kw \u001b[38;5;129;01mor\u001b[39;00m data\u001b[38;5;241m.\u001b[39mcolumns\n\u001b[1;32m    970\u001b[0m             data\u001b[38;5;241m.\u001b[39mcolumns \u001b[38;5;241m=\u001b[39m label_name\n\u001b[0;32m--> 972\u001b[0m \u001b[38;5;28;01mreturn\u001b[39;00m \u001b[43mplot_backend\u001b[49m\u001b[38;5;241;43m.\u001b[39;49m\u001b[43mplot\u001b[49m\u001b[43m(\u001b[49m\u001b[43mdata\u001b[49m\u001b[43m,\u001b[49m\u001b[43m \u001b[49m\u001b[43mkind\u001b[49m\u001b[38;5;241;43m=\u001b[39;49m\u001b[43mkind\u001b[49m\u001b[43m,\u001b[49m\u001b[43m \u001b[49m\u001b[38;5;241;43m*\u001b[39;49m\u001b[38;5;241;43m*\u001b[39;49m\u001b[43mkwargs\u001b[49m\u001b[43m)\u001b[49m\n",
      "File \u001b[0;32m~/.local/lib/python3.10/site-packages/pandas/plotting/_matplotlib/__init__.py:71\u001b[0m, in \u001b[0;36mplot\u001b[0;34m(data, kind, **kwargs)\u001b[0m\n\u001b[1;32m     69\u001b[0m         kwargs[\u001b[38;5;124m\"\u001b[39m\u001b[38;5;124max\u001b[39m\u001b[38;5;124m\"\u001b[39m] \u001b[38;5;241m=\u001b[39m \u001b[38;5;28mgetattr\u001b[39m(ax, \u001b[38;5;124m\"\u001b[39m\u001b[38;5;124mleft_ax\u001b[39m\u001b[38;5;124m\"\u001b[39m, ax)\n\u001b[1;32m     70\u001b[0m plot_obj \u001b[38;5;241m=\u001b[39m PLOT_CLASSES[kind](data, \u001b[38;5;241m*\u001b[39m\u001b[38;5;241m*\u001b[39mkwargs)\n\u001b[0;32m---> 71\u001b[0m \u001b[43mplot_obj\u001b[49m\u001b[38;5;241;43m.\u001b[39;49m\u001b[43mgenerate\u001b[49m\u001b[43m(\u001b[49m\u001b[43m)\u001b[49m\n\u001b[1;32m     72\u001b[0m plot_obj\u001b[38;5;241m.\u001b[39mdraw()\n\u001b[1;32m     73\u001b[0m \u001b[38;5;28;01mreturn\u001b[39;00m plot_obj\u001b[38;5;241m.\u001b[39mresult\n",
      "File \u001b[0;32m~/.local/lib/python3.10/site-packages/pandas/plotting/_matplotlib/core.py:329\u001b[0m, in \u001b[0;36mMPLPlot.generate\u001b[0;34m(self)\u001b[0m\n\u001b[1;32m    327\u001b[0m \u001b[38;5;28mself\u001b[39m\u001b[38;5;241m.\u001b[39m_compute_plot_data()\n\u001b[1;32m    328\u001b[0m \u001b[38;5;28mself\u001b[39m\u001b[38;5;241m.\u001b[39m_setup_subplots()\n\u001b[0;32m--> 329\u001b[0m \u001b[38;5;28;43mself\u001b[39;49m\u001b[38;5;241;43m.\u001b[39;49m\u001b[43m_make_plot\u001b[49m\u001b[43m(\u001b[49m\u001b[43m)\u001b[49m\n\u001b[1;32m    330\u001b[0m \u001b[38;5;28mself\u001b[39m\u001b[38;5;241m.\u001b[39m_add_table()\n\u001b[1;32m    331\u001b[0m \u001b[38;5;28mself\u001b[39m\u001b[38;5;241m.\u001b[39m_make_legend()\n",
      "File \u001b[0;32m~/.local/lib/python3.10/site-packages/pandas/plotting/_matplotlib/core.py:1558\u001b[0m, in \u001b[0;36mBarPlot._make_plot\u001b[0;34m(self)\u001b[0m\n\u001b[1;32m   1556\u001b[0m \u001b[38;5;28;01melse\u001b[39;00m:\n\u001b[1;32m   1557\u001b[0m     w \u001b[38;5;241m=\u001b[39m \u001b[38;5;28mself\u001b[39m\u001b[38;5;241m.\u001b[39mbar_width \u001b[38;5;241m/\u001b[39m K\n\u001b[0;32m-> 1558\u001b[0m     rect \u001b[38;5;241m=\u001b[39m \u001b[38;5;28;43mself\u001b[39;49m\u001b[38;5;241;43m.\u001b[39;49m\u001b[43m_plot\u001b[49m\u001b[43m(\u001b[49m\n\u001b[1;32m   1559\u001b[0m \u001b[43m        \u001b[49m\u001b[43max\u001b[49m\u001b[43m,\u001b[49m\n\u001b[1;32m   1560\u001b[0m \u001b[43m        \u001b[49m\u001b[38;5;28;43mself\u001b[39;49m\u001b[38;5;241;43m.\u001b[39;49m\u001b[43max_pos\u001b[49m\u001b[43m \u001b[49m\u001b[38;5;241;43m+\u001b[39;49m\u001b[43m \u001b[49m\u001b[43m(\u001b[49m\u001b[43mi\u001b[49m\u001b[43m \u001b[49m\u001b[38;5;241;43m+\u001b[39;49m\u001b[43m \u001b[49m\u001b[38;5;241;43m0.5\u001b[39;49m\u001b[43m)\u001b[49m\u001b[43m \u001b[49m\u001b[38;5;241;43m*\u001b[39;49m\u001b[43m \u001b[49m\u001b[43mw\u001b[49m\u001b[43m,\u001b[49m\n\u001b[1;32m   1561\u001b[0m \u001b[43m        \u001b[49m\u001b[43my\u001b[49m\u001b[43m,\u001b[49m\n\u001b[1;32m   1562\u001b[0m \u001b[43m        \u001b[49m\u001b[43mw\u001b[49m\u001b[43m,\u001b[49m\n\u001b[1;32m   1563\u001b[0m \u001b[43m        \u001b[49m\u001b[43mstart\u001b[49m\u001b[38;5;241;43m=\u001b[39;49m\u001b[43mstart\u001b[49m\u001b[43m,\u001b[49m\n\u001b[1;32m   1564\u001b[0m \u001b[43m        \u001b[49m\u001b[43mlabel\u001b[49m\u001b[38;5;241;43m=\u001b[39;49m\u001b[43mlabel\u001b[49m\u001b[43m,\u001b[49m\n\u001b[1;32m   1565\u001b[0m \u001b[43m        \u001b[49m\u001b[43mlog\u001b[49m\u001b[38;5;241;43m=\u001b[39;49m\u001b[38;5;28;43mself\u001b[39;49m\u001b[38;5;241;43m.\u001b[39;49m\u001b[43mlog\u001b[49m\u001b[43m,\u001b[49m\n\u001b[1;32m   1566\u001b[0m \u001b[43m        \u001b[49m\u001b[38;5;241;43m*\u001b[39;49m\u001b[38;5;241;43m*\u001b[39;49m\u001b[43mkwds\u001b[49m\u001b[43m,\u001b[49m\n\u001b[1;32m   1567\u001b[0m \u001b[43m    \u001b[49m\u001b[43m)\u001b[49m\n\u001b[1;32m   1568\u001b[0m \u001b[38;5;28mself\u001b[39m\u001b[38;5;241m.\u001b[39m_append_legend_handles_labels(rect, label)\n",
      "File \u001b[0;32m~/.local/lib/python3.10/site-packages/pandas/plotting/_matplotlib/core.py:1488\u001b[0m, in \u001b[0;36mBarPlot._plot\u001b[0;34m(cls, ax, x, y, w, start, log, **kwds)\u001b[0m\n\u001b[1;32m   1484\u001b[0m \u001b[38;5;129m@classmethod\u001b[39m\n\u001b[1;32m   1485\u001b[0m \u001b[38;5;28;01mdef\u001b[39;00m \u001b[38;5;21m_plot\u001b[39m(  \u001b[38;5;66;03m# type: ignore[override]\u001b[39;00m\n\u001b[1;32m   1486\u001b[0m     \u001b[38;5;28mcls\u001b[39m, ax: Axes, x, y, w, start\u001b[38;5;241m=\u001b[39m\u001b[38;5;241m0\u001b[39m, log\u001b[38;5;241m=\u001b[39m\u001b[38;5;28;01mFalse\u001b[39;00m, \u001b[38;5;241m*\u001b[39m\u001b[38;5;241m*\u001b[39mkwds\n\u001b[1;32m   1487\u001b[0m ):\n\u001b[0;32m-> 1488\u001b[0m     \u001b[38;5;28;01mreturn\u001b[39;00m \u001b[43max\u001b[49m\u001b[38;5;241;43m.\u001b[39;49m\u001b[43mbar\u001b[49m\u001b[43m(\u001b[49m\u001b[43mx\u001b[49m\u001b[43m,\u001b[49m\u001b[43m \u001b[49m\u001b[43my\u001b[49m\u001b[43m,\u001b[49m\u001b[43m \u001b[49m\u001b[43mw\u001b[49m\u001b[43m,\u001b[49m\u001b[43m \u001b[49m\u001b[43mbottom\u001b[49m\u001b[38;5;241;43m=\u001b[39;49m\u001b[43mstart\u001b[49m\u001b[43m,\u001b[49m\u001b[43m \u001b[49m\u001b[43mlog\u001b[49m\u001b[38;5;241;43m=\u001b[39;49m\u001b[43mlog\u001b[49m\u001b[43m,\u001b[49m\u001b[43m \u001b[49m\u001b[38;5;241;43m*\u001b[39;49m\u001b[38;5;241;43m*\u001b[39;49m\u001b[43mkwds\u001b[49m\u001b[43m)\u001b[49m\n",
      "File \u001b[0;32m~/.local/lib/python3.10/site-packages/matplotlib/__init__.py:1412\u001b[0m, in \u001b[0;36m_preprocess_data.<locals>.inner\u001b[0;34m(ax, data, *args, **kwargs)\u001b[0m\n\u001b[1;32m   1409\u001b[0m \u001b[38;5;129m@functools\u001b[39m\u001b[38;5;241m.\u001b[39mwraps(func)\n\u001b[1;32m   1410\u001b[0m \u001b[38;5;28;01mdef\u001b[39;00m \u001b[38;5;21minner\u001b[39m(ax, \u001b[38;5;241m*\u001b[39margs, data\u001b[38;5;241m=\u001b[39m\u001b[38;5;28;01mNone\u001b[39;00m, \u001b[38;5;241m*\u001b[39m\u001b[38;5;241m*\u001b[39mkwargs):\n\u001b[1;32m   1411\u001b[0m     \u001b[38;5;28;01mif\u001b[39;00m data \u001b[38;5;129;01mis\u001b[39;00m \u001b[38;5;28;01mNone\u001b[39;00m:\n\u001b[0;32m-> 1412\u001b[0m         \u001b[38;5;28;01mreturn\u001b[39;00m \u001b[43mfunc\u001b[49m\u001b[43m(\u001b[49m\u001b[43max\u001b[49m\u001b[43m,\u001b[49m\u001b[43m \u001b[49m\u001b[38;5;241;43m*\u001b[39;49m\u001b[38;5;28;43mmap\u001b[39;49m\u001b[43m(\u001b[49m\u001b[43msanitize_sequence\u001b[49m\u001b[43m,\u001b[49m\u001b[43m \u001b[49m\u001b[43margs\u001b[49m\u001b[43m)\u001b[49m\u001b[43m,\u001b[49m\u001b[43m \u001b[49m\u001b[38;5;241;43m*\u001b[39;49m\u001b[38;5;241;43m*\u001b[39;49m\u001b[43mkwargs\u001b[49m\u001b[43m)\u001b[49m\n\u001b[1;32m   1414\u001b[0m     bound \u001b[38;5;241m=\u001b[39m new_sig\u001b[38;5;241m.\u001b[39mbind(ax, \u001b[38;5;241m*\u001b[39margs, \u001b[38;5;241m*\u001b[39m\u001b[38;5;241m*\u001b[39mkwargs)\n\u001b[1;32m   1415\u001b[0m     auto_label \u001b[38;5;241m=\u001b[39m (bound\u001b[38;5;241m.\u001b[39marguments\u001b[38;5;241m.\u001b[39mget(label_namer)\n\u001b[1;32m   1416\u001b[0m                   \u001b[38;5;129;01mor\u001b[39;00m bound\u001b[38;5;241m.\u001b[39mkwargs\u001b[38;5;241m.\u001b[39mget(label_namer))\n",
      "File \u001b[0;32m~/.local/lib/python3.10/site-packages/matplotlib/axes/_axes.py:2403\u001b[0m, in \u001b[0;36mAxes.bar\u001b[0;34m(self, x, height, width, bottom, align, **kwargs)\u001b[0m\n\u001b[1;32m   2394\u001b[0m \u001b[38;5;28;01mfor\u001b[39;00m l, b, w, h, c, e, lw, htch \u001b[38;5;129;01min\u001b[39;00m args:\n\u001b[1;32m   2395\u001b[0m     r \u001b[38;5;241m=\u001b[39m mpatches\u001b[38;5;241m.\u001b[39mRectangle(\n\u001b[1;32m   2396\u001b[0m         xy\u001b[38;5;241m=\u001b[39m(l, b), width\u001b[38;5;241m=\u001b[39mw, height\u001b[38;5;241m=\u001b[39mh,\n\u001b[1;32m   2397\u001b[0m         facecolor\u001b[38;5;241m=\u001b[39mc,\n\u001b[0;32m   (...)\u001b[0m\n\u001b[1;32m   2401\u001b[0m         hatch\u001b[38;5;241m=\u001b[39mhtch,\n\u001b[1;32m   2402\u001b[0m         )\n\u001b[0;32m-> 2403\u001b[0m     \u001b[43mr\u001b[49m\u001b[38;5;241;43m.\u001b[39;49m\u001b[43mupdate\u001b[49m\u001b[43m(\u001b[49m\u001b[43mkwargs\u001b[49m\u001b[43m)\u001b[49m\n\u001b[1;32m   2404\u001b[0m     r\u001b[38;5;241m.\u001b[39mget_path()\u001b[38;5;241m.\u001b[39m_interpolation_steps \u001b[38;5;241m=\u001b[39m \u001b[38;5;241m100\u001b[39m\n\u001b[1;32m   2405\u001b[0m     \u001b[38;5;28;01mif\u001b[39;00m orientation \u001b[38;5;241m==\u001b[39m \u001b[38;5;124m'\u001b[39m\u001b[38;5;124mvertical\u001b[39m\u001b[38;5;124m'\u001b[39m:\n",
      "File \u001b[0;32m~/.local/lib/python3.10/site-packages/matplotlib/artist.py:1064\u001b[0m, in \u001b[0;36mArtist.update\u001b[0;34m(self, props)\u001b[0m\n\u001b[1;32m   1062\u001b[0m             func \u001b[38;5;241m=\u001b[39m \u001b[38;5;28mgetattr\u001b[39m(\u001b[38;5;28mself\u001b[39m, \u001b[38;5;124mf\u001b[39m\u001b[38;5;124m\"\u001b[39m\u001b[38;5;124mset_\u001b[39m\u001b[38;5;132;01m{\u001b[39;00mk\u001b[38;5;132;01m}\u001b[39;00m\u001b[38;5;124m\"\u001b[39m, \u001b[38;5;28;01mNone\u001b[39;00m)\n\u001b[1;32m   1063\u001b[0m             \u001b[38;5;28;01mif\u001b[39;00m \u001b[38;5;129;01mnot\u001b[39;00m callable(func):\n\u001b[0;32m-> 1064\u001b[0m                 \u001b[38;5;28;01mraise\u001b[39;00m \u001b[38;5;167;01mAttributeError\u001b[39;00m(\u001b[38;5;124mf\u001b[39m\u001b[38;5;124m\"\u001b[39m\u001b[38;5;132;01m{\u001b[39;00m\u001b[38;5;28mtype\u001b[39m(\u001b[38;5;28mself\u001b[39m)\u001b[38;5;241m.\u001b[39m\u001b[38;5;18m__name__\u001b[39m\u001b[38;5;132;01m!r}\u001b[39;00m\u001b[38;5;124m object \u001b[39m\u001b[38;5;124m\"\u001b[39m\n\u001b[1;32m   1065\u001b[0m                                      \u001b[38;5;124mf\u001b[39m\u001b[38;5;124m\"\u001b[39m\u001b[38;5;124mhas no property \u001b[39m\u001b[38;5;132;01m{\u001b[39;00mk\u001b[38;5;132;01m!r}\u001b[39;00m\u001b[38;5;124m\"\u001b[39m)\n\u001b[1;32m   1066\u001b[0m             ret\u001b[38;5;241m.\u001b[39mappend(func(v))\n\u001b[1;32m   1067\u001b[0m \u001b[38;5;28;01mif\u001b[39;00m ret:\n",
      "\u001b[0;31mAttributeError\u001b[0m: 'Rectangle' object has no property 'density'"
     ]
    },
    {
     "data": {
      "image/png": "[encoded data removed]",
      "text/plain": [
       "<Figure size 1296x576 with 1 Axes>"
      ]
     },
     "metadata": {
      "needs_background": "light"
     },
     "output_type": "display_data"
    }
   ],
   "source": [
    "cols = [\"player1_rank\", \"player2_rank\", \"player1_age\", \"player2_age\"]\n",
    "\n",
    "\n",
    "plt.figure(1, figsize=(18, 8))\n",
    "\n",
    "for i in range(len(cols)):\n",
    "    plt.subplot(2, 2, i + 1)\n",
    "    df[cols[i]].plot(kind=\"bar\", density=True, title=cols[i])\n",
    "\n",
    "plt.show()"
   ]
  },
  {
   "cell_type": "markdown",
   "id": "981b5daa",
   "metadata": {},
   "source": [
    "### Prepare data for ML models"
   ]
  },
  {
   "cell_type": "code",
   "execution_count": 239,
   "id": "d4cd374d",
   "metadata": {},
   "outputs": [],
   "source": [
    "## convert categorical values (player hand, surface) to numbers\n",
    "le = LabelEncoder()\n",
    "df[\"surface\"] = le.fit_transform(df[\"surface\"])\n",
    "df[\"player1_hand\"] = le.fit_transform(df[\"player1_hand\"])\n",
    "df[\"player2_hand\"] = le.fit_transform(df[\"player2_hand\"])\n",
    "\n",
    "## features that will be used in the model\n",
    "features = [\"player1_ht\", \"player2_ht\", \"player1_age\", \"player2_age\", \"player1_rank\", \"player2_rank\", \"surface\", \"player1_hand\", \"player2_hand\"]\n",
    "X = df[features]\n",
    "y = df[\"label\"]\n",
    "\n",
    "kf = KFold(n_splits=3, shuffle=True, random_state=seed)"
   ]
  },
  {
   "cell_type": "markdown",
   "id": "87cbc84e",
   "metadata": {},
   "source": [
    "### Logistic Regression"
   ]
  },
  {
   "cell_type": "code",
   "execution_count": 253,
   "id": "96d7b0f1",
   "metadata": {},
   "outputs": [
    {
     "name": "stdout",
     "output_type": "stream",
     "text": [
      "training accuracy: 0.6059975668282059\n",
      "validation accuracy: 0.6066529100600228\n",
      "precision: 0.54646239908461\n",
      "training error: 13.608530672524596\n",
      "validation error: 13.585896416317375\n",
      "--------------\n",
      "training accuracy: 0.6061420784126579\n",
      "validation accuracy: 0.6059673202175068\n",
      "precision: 0.5476622806640103\n",
      "training error: 13.603536457890108\n",
      "validation error: 13.609572367930502\n",
      "--------------\n",
      "training accuracy: 0.6054497671010977\n",
      "validation accuracy: 0.6055304247296289\n",
      "precision: 0.5481662760534687\n",
      "training error: 13.627447922550193\n",
      "validation error: 13.624661241464239\n",
      "--------------\n",
      "total results:\n",
      "\taverage training accuracy: 0.6058631374473206\n",
      "\taverage validation accuracy: 0.6060502183357195\n",
      "\taverage precision: 0.5474303186006964\n",
      "\taverage training error: 13.613171684321633\n",
      "\taverage validation error: 13.606710008570706\n"
     ]
    }
   ],
   "source": [
    "train_err_sum, val_err_sum, train_acc_sum, val_acc_sum, precision_sum = 0, 0, 0, 0, 0\n",
    "\n",
    "for train_indices, val_indices in kf.split(X):\n",
    "    X_train, X_val, y_train, y_val = X.iloc[train_indices], X.iloc[val_indices], y.iloc[train_indices], y.iloc[val_indices]\n",
    "\n",
    "    clf_1 = LogisticRegression()\n",
    "\n",
    "    ## training the model\n",
    "    clf_1.fit(X_train, y_train)\n",
    "    y_pred_train_1 = clf_1.predict(X_train)\n",
    "    acc_train_1 = clf_1.score(X_train, y_train)\n",
    "    accuracy_1 = clf_1.score(X, y)\n",
    "\n",
    "    ## validation\n",
    "    y_pred_val_1 = clf_1.predict(X_val)\n",
    "    acc_val_1 = clf_1.score(X_val, y_val)\n",
    "\n",
    "\n",
    "    ## confusion matrix\n",
    "    conf_mat = confusion_matrix(y, np.concatenate([y_pred_train_1, y_pred_val_1]))\n",
    "\n",
    "    ## calculate the precision by dividing TP by (TP + FP)\n",
    "    ## it denotes the proportion of true positives in total positives\n",
    "    true_pos = conf_mat[1][1]\n",
    "    false_pos = conf_mat[0][1]\n",
    "    precision = true_pos / (true_pos + false_pos)\n",
    "\n",
    "    ## errors\n",
    "    err_train = log_loss(y_train, y_pred_train_1)\n",
    "    err_val = log_loss(y_val, y_pred_val_1)\n",
    "\n",
    "    train_err_sum += err_train\n",
    "    val_err_sum += err_val\n",
    "    train_acc_sum += acc_train_1\n",
    "    val_acc_sum += acc_val_1\n",
    "    precision_sum += precision\n",
    "\n",
    "    print(f\"training accuracy: {acc_train_1}\")\n",
    "    print(f\"validation accuracy: {acc_val_1}\")\n",
    "    print(f\"precision: {precision}\")\n",
    "    print(f\"training error: {err_train}\")\n",
    "    print(f\"validation error: {err_val}\")\n",
    "    print(\"--------------\")\n",
    "\n",
    "\n",
    "n = kf.get_n_splits()\n",
    "\n",
    "print(\"total results:\")\n",
    "print(f\"\\taverage training accuracy: {train_acc_sum/n}\")\n",
    "print(f\"\\taverage validation accuracy: {val_acc_sum/n}\")\n",
    "print(f\"\\taverage precision: {precision_sum/n}\")\n",
    "print(f\"\\taverage training error: {train_err_sum/n}\")\n",
    "print(f\"\\taverage validation error: {val_err_sum/n}\")"
   ]
  }
 ],
 "metadata": {
  "kernelspec": {
   "display_name": "Python 3 (ipykernel)",
   "language": "python",
   "name": "python3"
  },
  "language_info": {
   "codemirror_mode": {
    "name": "ipython",
    "version": 3
   },
   "file_extension": ".py",
   "mimetype": "text/x-python",
   "name": "python",
   "nbconvert_exporter": "python",
   "pygments_lexer": "ipython3",
   "version": "3.10.5"
  }
 },
 "nbformat": 4,
 "nbformat_minor": 5
}
