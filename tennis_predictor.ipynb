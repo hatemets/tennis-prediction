{
 "cells": [
  {
   "cell_type": "code",
   "execution_count": 348,
   "id": "f12fa1c8",
   "metadata": {},
   "outputs": [],
   "source": [
    "import pandas as pd\n",
    "import numpy as np\n",
    "import matplotlib.pyplot as plt\n",
    "from sklearn.preprocessing import PolynomialFeatures\n",
    "from sklearn.metrics import mean_squared_error"
   ]
  },
  {
   "cell_type": "markdown",
   "id": "3d44d6bd",
   "metadata": {},
   "source": [
    "### Merge the match data from one year"
   ]
  },
  {
   "cell_type": "code",
   "execution_count": 349,
   "id": "d5c41ac6",
   "metadata": {},
   "outputs": [],
   "source": [
    "match_names = [\"atp_matches\", \"atp_matches_futures\", \"atp_matches_qual_chall\"]\n",
    "frames = []\n",
    "\n",
    "for name in match_names:\n",
    "    frames.append(pd.read_csv(f\"{name}_2021.csv\"))\n",
    "\n",
    "df = pd.concat(frames)"
   ]
  },
  {
   "cell_type": "markdown",
   "id": "56f404a7",
   "metadata": {},
   "source": [
    "### Clean up the data"
   ]
  },
  {
   "cell_type": "code",
   "execution_count": 350,
   "id": "dd41f653",
   "metadata": {},
   "outputs": [
    {
     "data": {
      "text/html": [
       "<div>\n",
       "<style scoped>\n",
       "    .dataframe tbody tr th:only-of-type {\n",
       "        vertical-align: middle;\n",
       "    }\n",
       "\n",
       "    .dataframe tbody tr th {\n",
       "        vertical-align: top;\n",
       "    }\n",
       "\n",
       "    .dataframe thead th {\n",
       "        text-align: right;\n",
       "    }\n",
       "</style>\n",
       "<table border=\"1\" class=\"dataframe\">\n",
       "  <thead>\n",
       "    <tr style=\"text-align: right;\">\n",
       "      <th></th>\n",
       "      <th>tourney_name</th>\n",
       "      <th>surface</th>\n",
       "      <th>tourney_date</th>\n",
       "      <th>winner_id</th>\n",
       "      <th>winner_name</th>\n",
       "      <th>winner_hand</th>\n",
       "      <th>winner_ht</th>\n",
       "      <th>winner_ioc</th>\n",
       "      <th>winner_age</th>\n",
       "      <th>loser_id</th>\n",
       "      <th>loser_name</th>\n",
       "      <th>loser_hand</th>\n",
       "      <th>loser_ht</th>\n",
       "      <th>loser_ioc</th>\n",
       "      <th>loser_age</th>\n",
       "      <th>w_ace</th>\n",
       "      <th>l_ace</th>\n",
       "      <th>winner_rank</th>\n",
       "      <th>loser_rank</th>\n",
       "    </tr>\n",
       "  </thead>\n",
       "  <tbody>\n",
       "    <tr>\n",
       "      <th>1086</th>\n",
       "      <td>Dubai</td>\n",
       "      <td>Hard</td>\n",
       "      <td>20210315</td>\n",
       "      <td>200325</td>\n",
       "      <td>Emil Ruusuvuori</td>\n",
       "      <td>R</td>\n",
       "      <td>188.0</td>\n",
       "      <td>FIN</td>\n",
       "      <td>21.952088</td>\n",
       "      <td>111442</td>\n",
       "      <td>Jordan Thompson</td>\n",
       "      <td>R</td>\n",
       "      <td>183.0</td>\n",
       "      <td>AUS</td>\n",
       "      <td>26.902122</td>\n",
       "      <td>8.0</td>\n",
       "      <td>3.0</td>\n",
       "      <td>87.0</td>\n",
       "      <td>55.0</td>\n",
       "    </tr>\n",
       "    <tr>\n",
       "      <th>2273</th>\n",
       "      <td>Great Ocean Road Open</td>\n",
       "      <td>Hard</td>\n",
       "      <td>20210201</td>\n",
       "      <td>122330</td>\n",
       "      <td>Alexander Bublik</td>\n",
       "      <td>R</td>\n",
       "      <td>196.0</td>\n",
       "      <td>KAZ</td>\n",
       "      <td>23.627652</td>\n",
       "      <td>106331</td>\n",
       "      <td>Christopher Oconnell</td>\n",
       "      <td>R</td>\n",
       "      <td>183.0</td>\n",
       "      <td>AUS</td>\n",
       "      <td>26.666667</td>\n",
       "      <td>23.0</td>\n",
       "      <td>9.0</td>\n",
       "      <td>45.0</td>\n",
       "      <td>121.0</td>\n",
       "    </tr>\n",
       "    <tr>\n",
       "      <th>913</th>\n",
       "      <td>Cincinnati Masters</td>\n",
       "      <td>Hard</td>\n",
       "      <td>20210816</td>\n",
       "      <td>128034</td>\n",
       "      <td>Hubert Hurkacz</td>\n",
       "      <td>R</td>\n",
       "      <td>196.0</td>\n",
       "      <td>POL</td>\n",
       "      <td>24.509240</td>\n",
       "      <td>104918</td>\n",
       "      <td>Andy Murray</td>\n",
       "      <td>R</td>\n",
       "      <td>190.0</td>\n",
       "      <td>GBR</td>\n",
       "      <td>34.255989</td>\n",
       "      <td>17.0</td>\n",
       "      <td>11.0</td>\n",
       "      <td>12.0</td>\n",
       "      <td>105.0</td>\n",
       "    </tr>\n",
       "    <tr>\n",
       "      <th>2395</th>\n",
       "      <td>Murray River Open</td>\n",
       "      <td>Hard</td>\n",
       "      <td>20210201</td>\n",
       "      <td>105173</td>\n",
       "      <td>Adrian Mannarino</td>\n",
       "      <td>L</td>\n",
       "      <td>183.0</td>\n",
       "      <td>FRA</td>\n",
       "      <td>32.594114</td>\n",
       "      <td>144707</td>\n",
       "      <td>Mikael Ymer</td>\n",
       "      <td>R</td>\n",
       "      <td>183.0</td>\n",
       "      <td>SWE</td>\n",
       "      <td>22.398357</td>\n",
       "      <td>0.0</td>\n",
       "      <td>1.0</td>\n",
       "      <td>35.0</td>\n",
       "      <td>95.0</td>\n",
       "    </tr>\n",
       "    <tr>\n",
       "      <th>604</th>\n",
       "      <td>Indian Wells Masters</td>\n",
       "      <td>Hard</td>\n",
       "      <td>20211004</td>\n",
       "      <td>111815</td>\n",
       "      <td>Cameron Norrie</td>\n",
       "      <td>L</td>\n",
       "      <td>188.0</td>\n",
       "      <td>GBR</td>\n",
       "      <td>26.116359</td>\n",
       "      <td>126205</td>\n",
       "      <td>Tommy Paul</td>\n",
       "      <td>R</td>\n",
       "      <td>185.0</td>\n",
       "      <td>USA</td>\n",
       "      <td>24.383299</td>\n",
       "      <td>6.0</td>\n",
       "      <td>2.0</td>\n",
       "      <td>26.0</td>\n",
       "      <td>60.0</td>\n",
       "    </tr>\n",
       "  </tbody>\n",
       "</table>\n",
       "</div>"
      ],
      "text/plain": [
       "               tourney_name surface  tourney_date  winner_id  \\\n",
       "1086                  Dubai    Hard      20210315     200325   \n",
       "2273  Great Ocean Road Open    Hard      20210201     122330   \n",
       "913      Cincinnati Masters    Hard      20210816     128034   \n",
       "2395      Murray River Open    Hard      20210201     105173   \n",
       "604    Indian Wells Masters    Hard      20211004     111815   \n",
       "\n",
       "           winner_name winner_hand  winner_ht winner_ioc  winner_age  \\\n",
       "1086   Emil Ruusuvuori           R      188.0        FIN   21.952088   \n",
       "2273  Alexander Bublik           R      196.0        KAZ   23.627652   \n",
       "913     Hubert Hurkacz           R      196.0        POL   24.509240   \n",
       "2395  Adrian Mannarino           L      183.0        FRA   32.594114   \n",
       "604     Cameron Norrie           L      188.0        GBR   26.116359   \n",
       "\n",
       "      loser_id            loser_name loser_hand  loser_ht loser_ioc  \\\n",
       "1086    111442       Jordan Thompson          R     183.0       AUS   \n",
       "2273    106331  Christopher Oconnell          R     183.0       AUS   \n",
       "913     104918           Andy Murray          R     190.0       GBR   \n",
       "2395    144707           Mikael Ymer          R     183.0       SWE   \n",
       "604     126205            Tommy Paul          R     185.0       USA   \n",
       "\n",
       "      loser_age  w_ace  l_ace  winner_rank  loser_rank  \n",
       "1086  26.902122    8.0    3.0         87.0        55.0  \n",
       "2273  26.666667   23.0    9.0         45.0       121.0  \n",
       "913   34.255989   17.0   11.0         12.0       105.0  \n",
       "2395  22.398357    0.0    1.0         35.0        95.0  \n",
       "604   24.383299    6.0    2.0         26.0        60.0  "
      ]
     },
     "execution_count": 350,
     "metadata": {},
     "output_type": "execute_result"
    }
   ],
   "source": [
    "## irrelevant columns\n",
    "irr_cols = []\n",
    "player_cols = [\"df\", \"svpt\", \"1stIn\", \"1stWon\", \"2ndWon\", \"SvGms\", \"bpSaved\", \"bpFaced\"]\n",
    "general_cols = [\"minutes\", \"score\", \"draw_size\", \"round\", \"loser_seed\", \"loser_entry\", \"loser_rank_points\", \"winner_rank_points\", \"winner_seed\", \"winner_entry\", \"match_num\", \"tourney_id\", \"tourney_level\", \"best_of\"]\n",
    "## add winner/loser cols\n",
    "for el in player_cols:\n",
    "    irr_cols.append(f\"w_{el}\")\n",
    "    irr_cols.append(f\"l_{el}\")\n",
    "\n",
    "## add the general cols\n",
    "irr_cols.extend(general_cols)\n",
    "\n",
    "## drop irrelevant cols\n",
    "df.drop(columns=irr_cols, inplace=True)\n",
    "\n",
    "## drop empty values\n",
    "## NB! Might need more intricate filtering\n",
    "df.dropna(axis=0, inplace=True)\n",
    "\n",
    "df.sample(5)"
   ]
  },
  {
   "cell_type": "markdown",
   "id": "c146130c",
   "metadata": {},
   "source": [
    "### Convert numerical values to floats"
   ]
  },
  {
   "cell_type": "code",
   "execution_count": 355,
   "id": "b9c40468",
   "metadata": {},
   "outputs": [],
   "source": [
    "numeric_cols = [\"winner_rank\", \"loser_rank\", \"winner_age\", \"loser_age\", \"winner_ht\", \"loser_ht\"]\n",
    "df[numeric_cols] = df[numeric_cols].astype(float)"
   ]
  },
  {
   "cell_type": "markdown",
   "id": "ca6e0be4",
   "metadata": {},
   "source": [
    "### Visualize data"
   ]
  },
  {
   "cell_type": "code",
   "execution_count": 360,
   "id": "4b442146",
   "metadata": {
    "scrolled": true
   },
   "outputs": [
    {
     "data": {
      "image/png": "[encoded data removed]",
      "text/plain": [
       "<Figure size 360x360 with 6 Axes>"
      ]
     },
     "metadata": {
      "needs_background": "light"
     },
     "output_type": "display_data"
    }
   ],
   "source": [
    "cols = [\"winner_rank\", \"loser_rank\", \"winner_age\", \"loser_age\", \"winner_ht\", \"loser_ht\"]\n",
    "\n",
    "plt.figure(1, figsize=(5, 5))\n",
    "\n",
    "for i in range(6):\n",
    "    plt.subplot(2, 3, i + 1)\n",
    "    df[cols[i]].plot(kind=\"hist\", title=cols[i])\n",
    "\n",
    "# plt.ylim([0, 10])\n",
    "# plt.xlim([0, 10])\n",
    "plt.show()"
   ]
  },
  {
   "cell_type": "code",
   "execution_count": null,
   "id": "39975b20",
   "metadata": {},
   "outputs": [],
   "source": []
  }
 ],
 "metadata": {
  "kernelspec": {
   "display_name": "Python 3",
   "language": "python",
   "name": "python3"
  },
  "language_info": {
   "codemirror_mode": {
    "name": "ipython",
    "version": 3
   },
   "file_extension": ".py",
   "mimetype": "text/x-python",
   "name": "python",
   "nbconvert_exporter": "python",
   "pygments_lexer": "ipython3",
   "version": "3.8.8"
  }
 },
 "nbformat": 4,
 "nbformat_minor": 5
}
