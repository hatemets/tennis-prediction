{
 "cells": [
  {
   "cell_type": "code",
   "execution_count": 41,
   "id": "7c99f724",
   "metadata": {},
   "outputs": [],
   "source": [
    "import pandas as pd\n",
    "import numpy as np\n",
    "import matplotlib.pyplot as plt\n",
    "from sklearn.linear_model import LogisticRegression\n",
    "from sklearn.metrics import mean_squared_error\n",
    "from sklearn.preprocessing import LabelEncoder\n",
    "from sklearn.model_selection import train_test_split \n",
    "from sklearn.metrics import accuracy_score, confusion_matrix \n",
    "from sklearn import svm\n",
    "import seaborn as sns\n",
    "\n",
    "## improve speed by limiting max columns shown at once\n",
    "pd.set_option('display.max_columns', 50)"
   ]
  },
  {
   "cell_type": "markdown",
   "id": "098d9e38",
   "metadata": {},
   "source": [
    "### Merge the match data from 2000-2020"
   ]
  },
  {
   "cell_type": "code",
   "execution_count": 42,
   "id": "8e1b493f",
   "metadata": {},
   "outputs": [],
   "source": [
    "frames = []\n",
    "\n",
    "# Add games from years 2000-2020\n",
    "for year in range(2000, 2021):\n",
    "    frames.append(pd.read_csv(f\"./data/matches_{year}.csv\"))\n",
    "\n",
    "df = pd.concat(frames)"
   ]
  },
  {
   "cell_type": "markdown",
   "id": "56f404a7",
   "metadata": {},
   "source": [
    "### Clean up the data"
   ]
  },
  {
   "cell_type": "code",
   "execution_count": 43,
   "id": "dd41f653",
   "metadata": {},
   "outputs": [],
   "source": [
    "## irrelevant columns\n",
    "irr_cols = []\n",
    "player_cols = [\"ace\", \"df\", \"svpt\", \"1stIn\", \"1stWon\", \"2ndWon\", \"SvGms\", \"bpSaved\", \"bpFaced\"]\n",
    "general_cols = [\"winner_name\", \"tourney_name\", \"loser_name\", \"winner_ioc\", \"loser_ioc\", \"minutes\", \"score\", \"draw_size\", \"round\", \"loser_seed\", \"loser_entry\", \"loser_rank_points\", \"winner_rank_points\", \"winner_seed\", \"winner_entry\", \"match_num\", \"tourney_id\", \"tourney_level\", \"best_of\"]\n",
    "## add winner/loser cols\n",
    "for el in player_cols:\n",
    "    irr_cols.append(f\"w_{el}\")\n",
    "    irr_cols.append(f\"l_{el}\")\n",
    "\n",
    "## add the general cols\n",
    "irr_cols.extend(general_cols)\n",
    "\n",
    "## drop irrelevant cols\n",
    "df.drop(columns=irr_cols, inplace=True)\n",
    "\n",
    "## calculate mean height of the players and replace null values with it\n",
    "mean_ht = (df[\"winner_ht\"].mean() + df[\"loser_ht\"].mean()) / 2\n",
    "df.loc[df[\"winner_ht\"].isnull(), \"winner_ht\"] = mean_ht\n",
    "df.loc[df[\"loser_ht\"].isnull(), \"loser_ht\"] = mean_ht\n",
    "\n",
    "## drop empty values\n",
    "df.dropna(axis=0, inplace=True)"
   ]
  },
  {
   "cell_type": "markdown",
   "id": "40cad284",
   "metadata": {},
   "source": [
    "### Convert numerical values to floats"
   ]
  },
  {
   "cell_type": "code",
   "execution_count": 44,
   "id": "17e962ec",
   "metadata": {},
   "outputs": [],
   "source": [
    "numeric_cols = [\"winner_rank\", \"loser_rank\", \"winner_age\", \"loser_age\", \"winner_ht\", \"loser_ht\"]\n",
    "df[numeric_cols] = df[numeric_cols].astype(float)"
   ]
  },
  {
   "cell_type": "markdown",
   "id": "00f15dcc",
   "metadata": {},
   "source": [
    "### Adjust the dataset for performing predictions"
   ]
  },
  {
   "cell_type": "code",
   "execution_count": 45,
   "id": "3062ccc8",
   "metadata": {
    "scrolled": false
   },
   "outputs": [],
   "source": [
    "## replace winner/loser with player1 & 2\n",
    "for (colName, colData) in df.iteritems():\n",
    "    if \"winner\" in colName:\n",
    "        endingVal = colName.split(\"_\")[1]\n",
    "        df.rename(columns={colName: f\"player1_{endingVal}\"}, inplace=True)\n",
    "    elif \"loser\" in colName:\n",
    "        endingVal = colName.split(\"_\")[1]\n",
    "        df.rename(columns={colName: f\"player2_{endingVal}\"}, inplace=True)\n",
    "\n",
    "\n",
    "## swap the labels for half of the values\n",
    "\n",
    "first_half, second_half = df[:int(len(df) / 2)], df[int(len(df) / 2):]\n",
    "first_half.insert(loc=0, column=\"label\", value=1)\n",
    "\n",
    "## swap columns\n",
    "scols = list(second_half.columns)\n",
    "\n",
    "np.warnings.filterwarnings('ignore')\n",
    "\n",
    "## swap the columns for the second half\n",
    "for attr in [\"id\", \"hand\", \"ht\", \"age\", \"rank\"]:\n",
    "    scols[scols.index(f\"player1_{attr}\")], scols[scols.index(f\"player2_{attr}\")] = scols[scols.index(f\"player2_{attr}\")], scols[scols.index(f\"player1_{attr}\")]\n",
    "    # second_half.insert(loc=0, column=\"label\", value=0)\n",
    "    second_half[\"label\"] = 0\n",
    "\n",
    "halves = []\n",
    "\n",
    "df = pd.concat([first_half, second_half])\n"
   ]
  },
  {
   "cell_type": "markdown",
   "id": "3e4a68eb",
   "metadata": {},
   "source": [
    "### Visualize data"
   ]
  },
  {
   "cell_type": "code",
   "execution_count": 46,
   "id": "4b2af06d",
   "metadata": {
    "scrolled": false
   },
   "outputs": [
    {
     "data": {
      "image/png": "[encoded data removed]",
      "text/plain": [
       "<Figure size 1296x576 with 4 Axes>"
      ]
     },
     "metadata": {
      "needs_background": "light"
     },
     "output_type": "display_data"
    }
   ],
   "source": [
    "cols = [\"player1_rank\", \"player2_rank\", \"player1_age\", \"player2_age\"]\n",
    "\n",
    "plt.figure(1, figsize=(18, 8))\n",
    "\n",
    "for i in range(len(cols)):\n",
    "    plt.subplot(2, 3, i + 1)\n",
    "    df[cols[i]].plot(kind=\"hist\", title=cols[i])\n",
    "\n",
    "plt.show()"
   ]
  },
  {
   "cell_type": "markdown",
   "id": "981b5daa",
   "metadata": {},
   "source": [
    "### Prepare data for ML models"
   ]
  },
  {
   "cell_type": "code",
   "execution_count": 47,
   "id": "d4cd374d",
   "metadata": {},
   "outputs": [],
   "source": [
    "## convert categorical values (player hand, surface) to numbers\n",
    "le = LabelEncoder()\n",
    "df[\"surface\"] = le.fit_transform(df[\"surface\"])\n",
    "df[\"player1_hand\"] = le.fit_transform(df[\"player1_hand\"])\n",
    "df[\"player2_hand\"] = le.fit_transform(df[\"player2_hand\"])\n",
    "\n",
    "## features that will be used in the model\n",
    "features = [\"player1_ht\", \"player2_ht\", \"player1_age\", \"player2_age\", \"player1_rank\", \"player2_rank\", \"surface\", \"player1_hand\", \"player2_hand\"]\n",
    "X = df[features]\n",
    "y = df[\"label\"]\n",
    "\n",
    "X_train, X_val, y_train, y_val = train_test_split(X, y, test_size=0.2, random_state=42)\n"
   ]
  },
  {
   "cell_type": "markdown",
   "id": "87cbc84e",
   "metadata": {},
   "source": [
    "### Logistic Regression"
   ]
  },
  {
   "cell_type": "code",
   "execution_count": 48,
   "id": "96d7b0f1",
   "metadata": {},
   "outputs": [
    {
     "ename": "ValueError",
     "evalue": "This solver needs samples of at least 2 classes in the data, but the data contains only one class: 1",
     "output_type": "error",
     "traceback": [
      "\u001b[0;31m---------------------------------------------------------------------------\u001b[0m",
      "\u001b[0;31mValueError\u001b[0m                                Traceback (most recent call last)",
      "\u001b[0;32m/tmp/ipykernel_16851/972516136.py\u001b[0m in \u001b[0;36m<module>\u001b[0;34m\u001b[0m\n\u001b[1;32m      2\u001b[0m \u001b[0;34m\u001b[0m\u001b[0m\n\u001b[1;32m      3\u001b[0m \u001b[0;31m## training the model\u001b[0m\u001b[0;34m\u001b[0m\u001b[0;34m\u001b[0m\u001b[0m\n\u001b[0;32m----> 4\u001b[0;31m \u001b[0mclf_1\u001b[0m\u001b[0;34m.\u001b[0m\u001b[0mfit\u001b[0m\u001b[0;34m(\u001b[0m\u001b[0mX_train\u001b[0m\u001b[0;34m,\u001b[0m \u001b[0my_train\u001b[0m\u001b[0;34m)\u001b[0m\u001b[0;34m\u001b[0m\u001b[0;34m\u001b[0m\u001b[0m\n\u001b[0m\u001b[1;32m      5\u001b[0m \u001b[0my_pred_train_1\u001b[0m \u001b[0;34m=\u001b[0m \u001b[0mclf_1\u001b[0m\u001b[0;34m.\u001b[0m\u001b[0mpredict\u001b[0m\u001b[0;34m(\u001b[0m\u001b[0mX_train\u001b[0m\u001b[0;34m)\u001b[0m\u001b[0;34m\u001b[0m\u001b[0;34m\u001b[0m\u001b[0m\n\u001b[1;32m      6\u001b[0m \u001b[0macc_train_1\u001b[0m \u001b[0;34m=\u001b[0m \u001b[0mclf_1\u001b[0m\u001b[0;34m.\u001b[0m\u001b[0mscore\u001b[0m\u001b[0;34m(\u001b[0m\u001b[0mX_train\u001b[0m\u001b[0;34m,\u001b[0m \u001b[0my_train\u001b[0m\u001b[0;34m)\u001b[0m\u001b[0;34m\u001b[0m\u001b[0;34m\u001b[0m\u001b[0m\n",
      "\u001b[0;32m~/anaconda3/lib/python3.9/site-packages/sklearn/linear_model/_logistic.py\u001b[0m in \u001b[0;36mfit\u001b[0;34m(self, X, y, sample_weight)\u001b[0m\n\u001b[1;32m   1372\u001b[0m         \u001b[0mclasses_\u001b[0m \u001b[0;34m=\u001b[0m \u001b[0mself\u001b[0m\u001b[0;34m.\u001b[0m\u001b[0mclasses_\u001b[0m\u001b[0;34m\u001b[0m\u001b[0;34m\u001b[0m\u001b[0m\n\u001b[1;32m   1373\u001b[0m         \u001b[0;32mif\u001b[0m \u001b[0mn_classes\u001b[0m \u001b[0;34m<\u001b[0m \u001b[0;36m2\u001b[0m\u001b[0;34m:\u001b[0m\u001b[0;34m\u001b[0m\u001b[0;34m\u001b[0m\u001b[0m\n\u001b[0;32m-> 1374\u001b[0;31m             raise ValueError(\"This solver needs samples of at least 2 classes\"\n\u001b[0m\u001b[1;32m   1375\u001b[0m                              \u001b[0;34m\" in the data, but the data contains only one\"\u001b[0m\u001b[0;34m\u001b[0m\u001b[0;34m\u001b[0m\u001b[0m\n\u001b[1;32m   1376\u001b[0m                              \" class: %r\" % classes_[0])\n",
      "\u001b[0;31mValueError\u001b[0m: This solver needs samples of at least 2 classes in the data, but the data contains only one class: 1"
     ]
    }
   ],
   "source": [
    "clf_1 = LogisticRegression()\n",
    "\n",
    "## training the model\n",
    "clf_1.fit(X_train, y_train)\n",
    "y_pred_train_1 = clf_1.predict(X_train)\n",
    "acc_train_1 = clf_1.score(X_train, y_train)\n",
    "accuracy_1 = clf_1.score(X, y)\n",
    "\n",
    "## validation\n",
    "y_pred_val_1 = clf_1.predict(X_val)\n",
    "acc_val_1 = clf_1.score(X_val, y_val)\n",
    "\n",
    "print(f\"training accuracy: {acc_train_1}\")\n",
    "print(f\"validation accuracy: {acc_val_1}\")"
   ]
  },
  {
   "cell_type": "markdown",
   "id": "8648189d",
   "metadata": {},
   "source": [
    "### Confusion matrix"
   ]
  },
  {
   "cell_type": "code",
   "execution_count": null,
   "id": "ac86aeda",
   "metadata": {},
   "outputs": [],
   "source": [
    "conf_mat = confusion_matrix(y, np.concatenate([y_pred_train_1, y_pred_val_1]))\n",
    "\n",
    "## calculate the precision by dividing TP by (TP + FP)\n",
    "## it denotes the proportion of true positives in total positives\n",
    "true_pos = conf_mat[1][1]\n",
    "false_pos = conf_mat[0][1]\n",
    "precision = true_pos / (true_pos + false_pos)\n",
    "\n",
    "print(f\"precision: {precision}\")"
   ]
  },
  {
   "cell_type": "markdown",
   "id": "51ae9ce0",
   "metadata": {},
   "source": [
    "### Visualize"
   ]
  },
  {
   "cell_type": "code",
   "execution_count": null,
   "id": "a81983e5",
   "metadata": {},
   "outputs": [],
   "source": [
    "ax = plt.subplot()\n",
    "sns.heatmap(conf_mat, annot=True, fmt='g', ax=ax)\n",
    "\n",
    "fontsize = 14\n",
    "\n",
    "ax.set_title(\"Confusion matrix\", fontsize=fontsize)\n",
    "ax.set_xlabel(\"Predictions\", fontsize=fontsize)\n",
    "ax.set_ylabel(\"True values\", fontsize=fontsize)\n",
    "ax.xaxis.set_ticklabels([\"L\", \"W\"], fontsize=fontsize)\n",
    "ax.yaxis.set_ticklabels([\"L\", \"W\"], fontsize=fontsize)"
   ]
  }
 ],
 "metadata": {
  "kernelspec": {
   "display_name": "Python 3 (ipykernel)",
   "language": "python",
   "name": "python3"
  },
  "language_info": {
   "codemirror_mode": {
    "name": "ipython",
    "version": 3
   },
   "file_extension": ".py",
   "mimetype": "text/x-python",
   "name": "python",
   "nbconvert_exporter": "python",
   "pygments_lexer": "ipython3",
   "version": "3.9.7"
  }
 },
 "nbformat": 4,
 "nbformat_minor": 5
}
