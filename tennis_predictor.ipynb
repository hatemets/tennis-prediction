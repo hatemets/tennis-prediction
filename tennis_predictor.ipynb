{
 "cells": [
  {
   "cell_type": "code",
   "execution_count": 1399,
   "id": "7c99f724",
   "metadata": {},
   "outputs": [],
   "source": [
    "import pandas as pd\n",
    "import numpy as np\n",
    "import matplotlib.pyplot as plt\n",
    "from sklearn.linear_model import LogisticRegression\n",
    "from sklearn.metrics import mean_squared_error\n",
    "from sklearn.preprocessing import LabelEncoder\n",
    "from sklearn.model_selection import train_test_split \n",
    "from sklearn.metrics import accuracy_score, confusion_matrix \n",
    "import seaborn as sns"
   ]
  },
  {
   "cell_type": "markdown",
   "id": "098d9e38",
   "metadata": {},
   "source": [
    "### Merge the match data from one year"
   ]
  },
  {
   "cell_type": "code",
   "execution_count": 1369,
   "id": "8e1b493f",
   "metadata": {},
   "outputs": [],
   "source": [
    "frames = []\n",
    "\n",
    "# Add games from years 2000-2020\n",
    "for year in range(2000, 2021):\n",
    "    frames.append(pd.read_csv(f\"./data/matches_{year}.csv\"))\n",
    "\n",
    "df = pd.concat(frames)"
   ]
  },
  {
   "cell_type": "markdown",
   "id": "56f404a7",
   "metadata": {},
   "source": [
    "### Clean up the data"
   ]
  },
  {
   "cell_type": "code",
   "execution_count": 1370,
   "id": "dd41f653",
   "metadata": {},
   "outputs": [],
   "source": [
    "## irrelevant columns\n",
    "irr_cols = []\n",
    "player_cols = [\"ace\", \"df\", \"svpt\", \"1stIn\", \"1stWon\", \"2ndWon\", \"SvGms\", \"bpSaved\", \"bpFaced\"]\n",
    "general_cols = [\"winner_name\", \"tourney_name\", \"loser_name\", \"winner_ioc\", \"loser_ioc\", \"minutes\", \"score\", \"draw_size\", \"round\", \"loser_seed\", \"loser_entry\", \"loser_rank_points\", \"winner_rank_points\", \"winner_seed\", \"winner_entry\", \"match_num\", \"tourney_id\", \"tourney_level\", \"best_of\"]\n",
    "## add winner/loser cols\n",
    "for el in player_cols:\n",
    "    irr_cols.append(f\"w_{el}\")\n",
    "    irr_cols.append(f\"l_{el}\")\n",
    "\n",
    "## add the general cols\n",
    "irr_cols.extend(general_cols)\n",
    "\n",
    "## drop irrelevant cols\n",
    "df.drop(columns=irr_cols, inplace=True)\n",
    "\n",
    "## calculate mean height of the players and replace null values with it\n",
    "mean_ht = (df[\"winner_ht\"].mean() + df[\"loser_ht\"].mean()) / 2\n",
    "df.loc[df[\"winner_ht\"].isnull(), \"winner_ht\"] = mean_ht\n",
    "df.loc[df[\"loser_ht\"].isnull(), \"loser_ht\"] = mean_ht\n",
    "\n",
    "## drop empty values\n",
    "df.dropna(axis=0, inplace=True)"
   ]
  },
  {
   "cell_type": "markdown",
   "id": "40cad284",
   "metadata": {},
   "source": [
    "### Convert numerical values to floats"
   ]
  },
  {
   "cell_type": "code",
   "execution_count": 1371,
   "id": "17e962ec",
   "metadata": {},
   "outputs": [],
   "source": [
    "numeric_cols = [\"winner_rank\", \"loser_rank\", \"winner_age\", \"loser_age\", \"winner_ht\", \"loser_ht\"]\n",
    "df[numeric_cols] = df[numeric_cols].astype(float)"
   ]
  },
  {
   "cell_type": "markdown",
   "id": "00f15dcc",
   "metadata": {},
   "source": [
    "### Adjust the dataset for performing predictions"
   ]
  },
  {
   "cell_type": "code",
   "execution_count": 1372,
   "id": "3062ccc8",
   "metadata": {
    "scrolled": false
   },
   "outputs": [
    {
     "data": {
      "text/html": [
       "<div>\n",
       "<style scoped>\n",
       "    .dataframe tbody tr th:only-of-type {\n",
       "        vertical-align: middle;\n",
       "    }\n",
       "\n",
       "    .dataframe tbody tr th {\n",
       "        vertical-align: top;\n",
       "    }\n",
       "\n",
       "    .dataframe thead th {\n",
       "        text-align: right;\n",
       "    }\n",
       "</style>\n",
       "<table border=\"1\" class=\"dataframe\">\n",
       "  <thead>\n",
       "    <tr style=\"text-align: right;\">\n",
       "      <th></th>\n",
       "      <th>label</th>\n",
       "      <th>surface</th>\n",
       "      <th>tourney_date</th>\n",
       "      <th>player1_id</th>\n",
       "      <th>player1_hand</th>\n",
       "      <th>player1_ht</th>\n",
       "      <th>player1_age</th>\n",
       "      <th>player2_id</th>\n",
       "      <th>player2_hand</th>\n",
       "      <th>player2_ht</th>\n",
       "      <th>player2_age</th>\n",
       "      <th>player1_rank</th>\n",
       "      <th>player2_rank</th>\n",
       "    </tr>\n",
       "  </thead>\n",
       "  <tbody>\n",
       "    <tr>\n",
       "      <th>9626</th>\n",
       "      <td>0</td>\n",
       "      <td>Clay</td>\n",
       "      <td>20110110</td>\n",
       "      <td>105559</td>\n",
       "      <td>L</td>\n",
       "      <td>180.000000</td>\n",
       "      <td>20.624230</td>\n",
       "      <td>106121</td>\n",
       "      <td>R</td>\n",
       "      <td>191.000000</td>\n",
       "      <td>17.952088</td>\n",
       "      <td>313.0</td>\n",
       "      <td>976.0</td>\n",
       "    </tr>\n",
       "    <tr>\n",
       "      <th>1853</th>\n",
       "      <td>1</td>\n",
       "      <td>Clay</td>\n",
       "      <td>20040809</td>\n",
       "      <td>104745</td>\n",
       "      <td>L</td>\n",
       "      <td>185.000000</td>\n",
       "      <td>18.184805</td>\n",
       "      <td>102644</td>\n",
       "      <td>L</td>\n",
       "      <td>183.000000</td>\n",
       "      <td>28.966461</td>\n",
       "      <td>71.0</td>\n",
       "      <td>154.0</td>\n",
       "    </tr>\n",
       "    <tr>\n",
       "      <th>18681</th>\n",
       "      <td>1</td>\n",
       "      <td>Hard</td>\n",
       "      <td>20011008</td>\n",
       "      <td>104093</td>\n",
       "      <td>U</td>\n",
       "      <td>184.686559</td>\n",
       "      <td>18.844627</td>\n",
       "      <td>104479</td>\n",
       "      <td>R</td>\n",
       "      <td>184.686559</td>\n",
       "      <td>16.741958</td>\n",
       "      <td>1069.0</td>\n",
       "      <td>1368.0</td>\n",
       "    </tr>\n",
       "    <tr>\n",
       "      <th>818</th>\n",
       "      <td>1</td>\n",
       "      <td>Hard</td>\n",
       "      <td>20000214</td>\n",
       "      <td>103454</td>\n",
       "      <td>R</td>\n",
       "      <td>183.000000</td>\n",
       "      <td>20.347707</td>\n",
       "      <td>102477</td>\n",
       "      <td>R</td>\n",
       "      <td>185.000000</td>\n",
       "      <td>25.278576</td>\n",
       "      <td>99.0</td>\n",
       "      <td>126.0</td>\n",
       "    </tr>\n",
       "    <tr>\n",
       "      <th>10030</th>\n",
       "      <td>1</td>\n",
       "      <td>Carpet</td>\n",
       "      <td>20100125</td>\n",
       "      <td>104869</td>\n",
       "      <td>R</td>\n",
       "      <td>188.000000</td>\n",
       "      <td>22.956879</td>\n",
       "      <td>105066</td>\n",
       "      <td>L</td>\n",
       "      <td>183.000000</td>\n",
       "      <td>22.067077</td>\n",
       "      <td>269.0</td>\n",
       "      <td>476.0</td>\n",
       "    </tr>\n",
       "  </tbody>\n",
       "</table>\n",
       "</div>"
      ],
      "text/plain": [
       "       label surface  tourney_date  player1_id player1_hand  player1_ht  \\\n",
       "9626       0    Clay      20110110      105559            L  180.000000   \n",
       "1853       1    Clay      20040809      104745            L  185.000000   \n",
       "18681      1    Hard      20011008      104093            U  184.686559   \n",
       "818        1    Hard      20000214      103454            R  183.000000   \n",
       "10030      1  Carpet      20100125      104869            R  188.000000   \n",
       "\n",
       "       player1_age  player2_id player2_hand  player2_ht  player2_age  \\\n",
       "9626     20.624230      106121            R  191.000000    17.952088   \n",
       "1853     18.184805      102644            L  183.000000    28.966461   \n",
       "18681    18.844627      104479            R  184.686559    16.741958   \n",
       "818      20.347707      102477            R  185.000000    25.278576   \n",
       "10030    22.956879      105066            L  183.000000    22.067077   \n",
       "\n",
       "       player1_rank  player2_rank  \n",
       "9626          313.0         976.0  \n",
       "1853           71.0         154.0  \n",
       "18681        1069.0        1368.0  \n",
       "818            99.0         126.0  \n",
       "10030         269.0         476.0  "
      ]
     },
     "execution_count": 1372,
     "metadata": {},
     "output_type": "execute_result"
    }
   ],
   "source": [
    "## replace winner/loser with player1 & 2\n",
    "for (colName, colData) in df.iteritems():\n",
    "    if \"winner\" in colName:\n",
    "        endingVal = colName.split(\"_\")[1]\n",
    "        df.rename(columns={colName: f\"player1_{endingVal}\"}, inplace=True)\n",
    "    elif \"loser\" in colName:\n",
    "        endingVal = colName.split(\"_\")[1]\n",
    "        df.rename(columns={colName: f\"player2_{endingVal}\"}, inplace=True)\n",
    "\n",
    "first_half, second_half = df[:int(len(df) / 2)], df[int(len(df) / 2):]\n",
    "first_half.insert(loc=0, column=\"label\", value=1)\n",
    "\n",
    "## swap columns\n",
    "scols = list(second_half.columns)\n",
    "\n",
    "np.warnings.filterwarnings('ignore')\n",
    "\n",
    "## swap the columns for the second half\n",
    "for attr in [\"id\", \"hand\", \"ht\", \"age\", \"rank\"]:\n",
    "    scols[scols.index(f\"player1_{attr}\")], scols[scols.index(f\"player2_{attr}\")] = scols[scols.index(f\"player2_{attr}\")], scols[scols.index(f\"player1_{attr}\")]\n",
    "    # second_half.insert(loc=0, column=\"label\", value=0)\n",
    "    second_half[\"label\"] = 0\n",
    "\n",
    "halves = []\n",
    "\n",
    "df = pd.concat([first_half, second_half])\n",
    "df.sample(5)"
   ]
  },
  {
   "cell_type": "markdown",
   "id": "3e4a68eb",
   "metadata": {},
   "source": [
    "### Visualize data"
   ]
  },
  {
   "cell_type": "code",
   "execution_count": 1373,
   "id": "4b2af06d",
   "metadata": {
    "scrolled": true
   },
   "outputs": [],
   "source": [
    "# cols = [\"player1_rank\", \"player2_rank\", \"player1_age\", \"player2_age\", \"player1_ht\", \"player2_ht\"]\n",
    "\n",
    "# plt.figure(1, figsize=(18, 8))\n",
    "\n",
    "# for i in range(6):\n",
    "#     plt.subplot(2, 3, i + 1)\n",
    "#     df[cols[i]].plot(kind=\"hist\", title=cols[i])\n",
    "\n",
    "# # plt.ylim([0, 10])\n",
    "# # plt.xlim([0, 10])\n",
    "# plt.show()"
   ]
  },
  {
   "cell_type": "markdown",
   "id": "87cbc84e",
   "metadata": {},
   "source": [
    "### Logistic Regression"
   ]
  },
  {
   "cell_type": "code",
   "execution_count": 1408,
   "id": "96d7b0f1",
   "metadata": {},
   "outputs": [
    {
     "name": "stdout",
     "output_type": "stream",
     "text": [
      "training accuracy: 0.6062470593507047\n",
      "validation accuracy: 0.60628227676521\n"
     ]
    }
   ],
   "source": [
    "## convert categorical values (player hand, surface) to numbers\n",
    "le = LabelEncoder()\n",
    "df[\"surface\"] = le.fit_transform(df[\"surface\"])\n",
    "df[\"player1_hand\"] = le.fit_transform(df[\"player1_hand\"])\n",
    "df[\"player2_hand\"] = le.fit_transform(df[\"player2_hand\"])\n",
    "\n",
    "features = [\"player1_ht\", \"player2_ht\", \"player1_age\", \"player2_age\", \"player1_rank\", \"player2_rank\", \"surface\", \"player1_hand\", \"player2_hand\"]\n",
    "X = df[features]\n",
    "y = df[\"label\"]\n",
    "\n",
    "X_train, X_val, y_train, y_val = train_test_split(X, y, test_size=0.2, random_state=42)\n",
    "\n",
    "clf = LogisticRegression()\n",
    "\n",
    "## training the model\n",
    "clf.fit(X_train, y_train)\n",
    "y_pred_train = clf.predict(X_train)\n",
    "acc_train = clf.score(X_train, y_train)\n",
    "accuracy = clf.score(X, y)\n",
    "\n",
    "## validation\n",
    "y_pred_val = clf.predict(X_val)\n",
    "acc_val = clf.score(X_val, y_val)\n",
    "\n",
    "print(f\"training accuracy: {acc_train}\")\n",
    "print(f\"validation accuracy: {acc_val}\")"
   ]
  },
  {
   "cell_type": "markdown",
   "id": "8648189d",
   "metadata": {},
   "source": [
    "### Confusion matrix"
   ]
  },
  {
   "cell_type": "code",
   "execution_count": 1396,
   "id": "ac86aeda",
   "metadata": {},
   "outputs": [
    {
     "name": "stdout",
     "output_type": "stream",
     "text": [
      "precision: 0.4986049466445747\n"
     ]
    }
   ],
   "source": [
    "conf_mat = confusion_matrix(y, np.concatenate([y_pred_train, y_pred_val]))\n",
    "\n",
    "## calculate the precision by dividing TP by (TP + FP)\n",
    "## it denotes the proportion of true positives in total positives\n",
    "true_pos = conf_mat[1][1]\n",
    "false_pos = conf_mat[0][1]\n",
    "precision = true_pos / (true_pos + false_pos)\n",
    "\n",
    "print(f\"precision: {precision}\")"
   ]
  },
  {
   "cell_type": "markdown",
   "id": "51ae9ce0",
   "metadata": {},
   "source": [
    "### Visualize"
   ]
  },
  {
   "cell_type": "code",
   "execution_count": 1406,
   "id": "a81983e5",
   "metadata": {},
   "outputs": [
    {
     "data": {
      "text/plain": [
       "[Text(0, 0.5, 'L'), Text(0, 1.5, 'W')]"
      ]
     },
     "execution_count": 1406,
     "metadata": {},
     "output_type": "execute_result"
    },
    {
     "data": {
      "image/png": "[encoded data removed]",
      "text/plain": [
       "<Figure size 432x288 with 2 Axes>"
      ]
     },
     "metadata": {
      "needs_background": "light"
     },
     "output_type": "display_data"
    }
   ],
   "source": [
    "ax = plt.subplot()\n",
    "sns.heatmap(conf_mat, annot=True, fmt='g', ax=ax)\n",
    "\n",
    "fontsize = 14\n",
    "\n",
    "ax.set_title(\"Confusion matrix\", fontsize=fontsize)\n",
    "ax.set_xlabel(\"Predictions\", fontsize=fontsize)\n",
    "ax.set_ylabel(\"True values\", fontsize=fontsize)\n",
    "ax.xaxis.set_ticklabels([\"L\", \"W\"], fontsize=fontsize)\n",
    "ax.yaxis.set_ticklabels([\"L\", \"W\"], fontsize=fontsize)"
   ]
  }
 ],
 "metadata": {
  "kernelspec": {
   "display_name": "Python 3",
   "language": "python",
   "name": "python3"
  },
  "language_info": {
   "codemirror_mode": {
    "name": "ipython",
    "version": 3
   },
   "file_extension": ".py",
   "mimetype": "text/x-python",
   "name": "python",
   "nbconvert_exporter": "python",
   "pygments_lexer": "ipython3",
   "version": "3.8.8"
  }
 },
 "nbformat": 4,
 "nbformat_minor": 5
}
