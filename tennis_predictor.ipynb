{
 "cells": [
  {
   "cell_type": "code",
   "execution_count": 243,
   "id": "f12fa1c8",
   "metadata": {},
   "outputs": [],
   "source": [
    "import pandas as pd\n",
    "import numpy as np\n",
    "import matplotlib.pyplot as plt"
   ]
  },
  {
   "cell_type": "markdown",
   "id": "f24143c9",
   "metadata": {},
   "source": [
    "### Merge the match data from one year"
   ]
  },
  {
   "cell_type": "code",
   "execution_count": 249,
   "id": "3b157c85",
   "metadata": {},
   "outputs": [],
   "source": [
    "match_names = [\"atp_matches\", \"atp_matches_futures\", \"atp_matches_qual_chall\"]\n",
    "frames = []\n",
    "\n",
    "for name in match_names:\n",
    "    frames.append(pd.read_csv(f\"{name}_2021.csv\"))\n",
    "\n",
    "df = pd.concat(frames)"
   ]
  },
  {
   "cell_type": "markdown",
   "id": "56f404a7",
   "metadata": {},
   "source": [
    "### Remove redundant columns"
   ]
  },
  {
   "cell_type": "code",
   "execution_count": 245,
   "id": "dd41f653",
   "metadata": {},
   "outputs": [],
   "source": [
    "# ## irrelevant columns\n",
    "# irr_cols = []\n",
    "# player_cols = [\"df\", \"svpt\", \"1stIn\", \"1stWon\", \"2ndWon\", \"SvGms\", \"bpSaved\", \"bpFaced\"]\n",
    "# general_cols = [\"draw_size\", \"round\", \"loser_seed\", \"loser_entry\", \"loser_rank_points\", \"winner_rank_points\", \"winner_seed\", \"winner_entry\", \"match_num\", \"tourney_id\", \"tourney_level\", \"best_of\"]\n",
    "# ## add winner/loser cols\n",
    "# for el in player_cols:\n",
    "#     irr_cols.append(f\"w_{el}\")\n",
    "#     irr_cols.append(f\"l_{el}\")\n",
    "\n",
    "# ## add the general cols\n",
    "# irr_cols.extend(general_cols)\n",
    "\n",
    "# ## drop the cols\n",
    "# df = df.drop(columns=irr_cols)"
   ]
  }
 ],
 "metadata": {
  "kernelspec": {
   "display_name": "Python 3",
   "language": "python",
   "name": "python3"
  },
  "language_info": {
   "codemirror_mode": {
    "name": "ipython",
    "version": 3
   },
   "file_extension": ".py",
   "mimetype": "text/x-python",
   "name": "python",
   "nbconvert_exporter": "python",
   "pygments_lexer": "ipython3",
   "version": "3.8.8"
  }
 },
 "nbformat": 4,
 "nbformat_minor": 5
}
