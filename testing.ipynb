{
 "cells": [
  {
   "cell_type": "code",
   "execution_count": 2,
   "id": "d2d4111a",
   "metadata": {},
   "outputs": [],
   "source": [
    "import numpy as np\n",
    "import pandas as pd\n",
    "import matplotlib.pyplot as plt"
   ]
  },
  {
   "cell_type": "code",
   "execution_count": 3,
   "id": "20db426a",
   "metadata": {},
   "outputs": [],
   "source": [
    "x = np.linspace(-2, 2, 100)\n",
    "y = np.sin(x)"
   ]
  },
  {
   "cell_type": "code",
   "execution_count": 4,
   "id": "5807c48e",
   "metadata": {},
   "outputs": [
    {
     "data": {
      "image/png": "[encoded data removed]",
      "text/plain": [
       "<Figure size 432x288 with 1 Axes>"
      ]
     },
     "metadata": {
      "needs_background": "light"
     },
     "output_type": "display_data"
    }
   ],
   "source": [
    "fig, ax = plt.subplots()\n",
    "\n",
    "# set labels\n",
    "ax.set_ylabel(\"y-axis\")\n",
    "ax.set_xlabel(\"x-axis\")\n",
    "\n",
    "# add grids to bg\n",
    "ax.grid()\n",
    "ax.plot(x, y)\n",
    "\n",
    "plt.show()"
   ]
  },
  {
   "cell_type": "code",
   "execution_count": 5,
   "id": "f122b7b4",
   "metadata": {},
   "outputs": [],
   "source": [
    "# df = pd.read_csv(\"matches_2021.csv\")\n",
    "\n",
    "## read first 5 entries with filtered columns\n",
    "# filtered_df = df[[\"tourney_name\", \"winner_name\", \"loser_name\", \"surface\", \"tourney_date\"]] \n",
    "# print(filtered_df.head(5))\n",
    "# df.head(1)\n",
    "\n",
    "## read headers\n",
    "# df.columns\n",
    "\n",
    "## basic info (including null count)\n",
    "# df.info()\n",
    "\n",
    "## read a specific column (first 5)\n",
    "# df[\"winner_rank\"][:5]\n",
    "\n",
    "## read specific columns\n",
    "# df[[\"winner_name\", \"loser_name\", \"surface\"]]\n",
    "\n",
    "## read the values in a certain location\n",
    "# filtered_df.iloc[0]\n",
    "\n",
    "## filter by specific value\n",
    "# df.loc[df[\"winner_rank\"] == 789.0]\n",
    "\n",
    "## filter by multiple values\n",
    "# df.loc[(df[\"winner_rank\"] < 500.0) & (df[\"winner_ht\"] <= 180) | (df[\"loser_ht\"] > 190)]\n",
    "# df[[\"winner_name\", \"winner_rank\", \"winner_ht\", \"loser_name\", \"loser_ht\"]]\n",
    "\n",
    "## conditional changes\n",
    "# df.loc[df[\"winner_rank\"] > 600.0, \"winner_name\"] = \"Kupiunga\"\n",
    "# df[[\"winner_name\", \"winner_rank\"]]\n",
    "\n",
    "## basic statistics\n",
    "# df.describe()\n",
    "\n",
    "## group statistics\n",
    "# df.groupby([\"winner_ht\"]).mean()\n",
    "\n",
    "## value counts\n",
    "# df[\"winner_hand\"].value_counts()\n",
    "# df[\"loser_hand\"].value_counts()\n",
    "\n",
    "## sort values (descending)\n",
    "# df.sort_values(\"winner_age\", ascending=False)[[\"winner_name\", \"winner_age\"]]\n",
    "\n",
    "## sort values first by height (ascending), then by age (descending)\n",
    "# df.sort_values([\"winner_ht\", \"winner_age\"], ascending=[True, False])[[\"winner_name\", \"winner_ht\", \"winner_age\"]]\n",
    "\n",
    "## create a new column from existing ones\n",
    "# df[\"matchup\"] = df[\"winner_name\"] + \" vs \" + df[\"loser_name\"]\n",
    "# df[\"matchup\"]\n",
    "\n",
    "## drop a column\n",
    "# df = df.drop(columns=[\"draw_size\", \"tourney_date\", \"match_num\"])\n",
    "# df\n",
    "\n",
    "## drop rows that contain null-values (axis 0 goes down, axis 1 right)\n",
    "# df.dropna(axis=0)\n",
    "\n",
    "## random sample\n",
    "# df.sample(3)\n",
    "\n",
    "## save the modified df\n",
    "# df.to_csv(\"modified_matches.csv\")\n"
   ]
  }
 ],
 "metadata": {
  "kernelspec": {
   "display_name": "Python 3",
   "language": "python",
   "name": "python3"
  },
  "language_info": {
   "codemirror_mode": {
    "name": "ipython",
    "version": 3
   },
   "file_extension": ".py",
   "mimetype": "text/x-python",
   "name": "python",
   "nbconvert_exporter": "python",
   "pygments_lexer": "ipython3",
   "version": "3.8.8"
  }
 },
 "nbformat": 4,
 "nbformat_minor": 5
}
