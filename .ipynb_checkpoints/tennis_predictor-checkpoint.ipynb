{
 "cells": [
  {
   "cell_type": "code",
   "execution_count": 16,
   "id": "7c99f724",
   "metadata": {},
   "outputs": [],
   "source": [
    "import pandas as pd\n",
    "import numpy as np\n",
    "import matplotlib.pyplot as plt\n",
    "from sklearn.linear_model import LogisticRegression\n",
    "from sklearn.metrics import mean_squared_error\n",
    "from sklearn.preprocessing import LabelEncoder\n",
    "from sklearn.model_selection import train_test_split \n",
    "from sklearn.metrics import accuracy_score, confusion_matrix \n",
    "from sklearn import svm\n",
    "import seaborn as sns\n",
    "\n",
    "## improve speed by limiting max columns shown at once\n",
    "pd.set_option('display.max_columns', 50)"
   ]
  },
  {
   "cell_type": "markdown",
   "id": "098d9e38",
   "metadata": {},
   "source": [
    "### Merge the match data from one year"
   ]
  },
  {
   "cell_type": "code",
   "execution_count": 17,
   "id": "8e1b493f",
   "metadata": {},
   "outputs": [],
   "source": [
    "frames = []\n",
    "\n",
    "# Add games from years 2000-2020\n",
    "for year in range(2000, 2021):\n",
    "    frames.append(pd.read_csv(f\"./data/matches_{year}.csv\"))\n",
    "\n",
    "df = pd.concat(frames)"
   ]
  },
  {
   "cell_type": "markdown",
   "id": "56f404a7",
   "metadata": {},
   "source": [
    "### Clean up the data"
   ]
  },
  {
   "cell_type": "code",
   "execution_count": 18,
   "id": "dd41f653",
   "metadata": {},
   "outputs": [],
   "source": [
    "## irrelevant columns\n",
    "irr_cols = []\n",
    "player_cols = [\"ace\", \"df\", \"svpt\", \"1stIn\", \"1stWon\", \"2ndWon\", \"SvGms\", \"bpSaved\", \"bpFaced\"]\n",
    "general_cols = [\"winner_name\", \"tourney_name\", \"loser_name\", \"winner_ioc\", \"loser_ioc\", \"minutes\", \"score\", \"draw_size\", \"round\", \"loser_seed\", \"loser_entry\", \"loser_rank_points\", \"winner_rank_points\", \"winner_seed\", \"winner_entry\", \"match_num\", \"tourney_id\", \"tourney_level\", \"best_of\"]\n",
    "## add winner/loser cols\n",
    "for el in player_cols:\n",
    "    irr_cols.append(f\"w_{el}\")\n",
    "    irr_cols.append(f\"l_{el}\")\n",
    "\n",
    "## add the general cols\n",
    "irr_cols.extend(general_cols)\n",
    "\n",
    "## drop irrelevant cols\n",
    "df.drop(columns=irr_cols, inplace=True)\n",
    "\n",
    "## calculate mean height of the players and replace null values with it\n",
    "mean_ht = (df[\"winner_ht\"].mean() + df[\"loser_ht\"].mean()) / 2\n",
    "df.loc[df[\"winner_ht\"].isnull(), \"winner_ht\"] = mean_ht\n",
    "df.loc[df[\"loser_ht\"].isnull(), \"loser_ht\"] = mean_ht\n",
    "\n",
    "## drop empty values\n",
    "df.dropna(axis=0, inplace=True)"
   ]
  },
  {
   "cell_type": "markdown",
   "id": "40cad284",
   "metadata": {},
   "source": [
    "### Convert numerical values to floats"
   ]
  },
  {
   "cell_type": "code",
   "execution_count": 19,
   "id": "17e962ec",
   "metadata": {},
   "outputs": [],
   "source": [
    "numeric_cols = [\"winner_rank\", \"loser_rank\", \"winner_age\", \"loser_age\", \"winner_ht\", \"loser_ht\"]\n",
    "df[numeric_cols] = df[numeric_cols].astype(float)"
   ]
  },
  {
   "cell_type": "markdown",
   "id": "00f15dcc",
   "metadata": {},
   "source": [
    "### Adjust the dataset for performing predictions"
   ]
  },
  {
   "cell_type": "code",
   "execution_count": 20,
   "id": "3062ccc8",
   "metadata": {
    "scrolled": false
   },
   "outputs": [
    {
     "data": {
      "text/html": [
       "<div>\n",
       "<style scoped>\n",
       "    .dataframe tbody tr th:only-of-type {\n",
       "        vertical-align: middle;\n",
       "    }\n",
       "\n",
       "    .dataframe tbody tr th {\n",
       "        vertical-align: top;\n",
       "    }\n",
       "\n",
       "    .dataframe thead th {\n",
       "        text-align: right;\n",
       "    }\n",
       "</style>\n",
       "<table border=\"1\" class=\"dataframe\">\n",
       "  <thead>\n",
       "    <tr style=\"text-align: right;\">\n",
       "      <th></th>\n",
       "      <th>label</th>\n",
       "      <th>surface</th>\n",
       "      <th>tourney_date</th>\n",
       "      <th>player1_id</th>\n",
       "      <th>player1_hand</th>\n",
       "      <th>player1_ht</th>\n",
       "      <th>player1_age</th>\n",
       "      <th>player2_id</th>\n",
       "      <th>player2_hand</th>\n",
       "      <th>player2_ht</th>\n",
       "      <th>player2_age</th>\n",
       "      <th>player1_rank</th>\n",
       "      <th>player2_rank</th>\n",
       "    </tr>\n",
       "  </thead>\n",
       "  <tbody>\n",
       "    <tr>\n",
       "      <th>12599</th>\n",
       "      <td>1</td>\n",
       "      <td>Hard</td>\n",
       "      <td>20100412</td>\n",
       "      <td>105585</td>\n",
       "      <td>R</td>\n",
       "      <td>188.000000</td>\n",
       "      <td>19.772758</td>\n",
       "      <td>104636</td>\n",
       "      <td>R</td>\n",
       "      <td>184.686559</td>\n",
       "      <td>24.407940</td>\n",
       "      <td>490.0</td>\n",
       "      <td>1781.0</td>\n",
       "    </tr>\n",
       "    <tr>\n",
       "      <th>27282</th>\n",
       "      <td>0</td>\n",
       "      <td>Hard</td>\n",
       "      <td>20160926</td>\n",
       "      <td>106254</td>\n",
       "      <td>U</td>\n",
       "      <td>184.686559</td>\n",
       "      <td>22.929500</td>\n",
       "      <td>111156</td>\n",
       "      <td>U</td>\n",
       "      <td>184.686559</td>\n",
       "      <td>24.199863</td>\n",
       "      <td>1188.0</td>\n",
       "      <td>1064.0</td>\n",
       "    </tr>\n",
       "    <tr>\n",
       "      <th>2659</th>\n",
       "      <td>1</td>\n",
       "      <td>Hard</td>\n",
       "      <td>20021111</td>\n",
       "      <td>102845</td>\n",
       "      <td>R</td>\n",
       "      <td>190.000000</td>\n",
       "      <td>26.206708</td>\n",
       "      <td>102610</td>\n",
       "      <td>R</td>\n",
       "      <td>180.000000</td>\n",
       "      <td>27.381246</td>\n",
       "      <td>5.0</td>\n",
       "      <td>11.0</td>\n",
       "    </tr>\n",
       "    <tr>\n",
       "      <th>639</th>\n",
       "      <td>1</td>\n",
       "      <td>Hard</td>\n",
       "      <td>20061009</td>\n",
       "      <td>103781</td>\n",
       "      <td>L</td>\n",
       "      <td>183.000000</td>\n",
       "      <td>25.382615</td>\n",
       "      <td>103507</td>\n",
       "      <td>R</td>\n",
       "      <td>183.000000</td>\n",
       "      <td>26.655715</td>\n",
       "      <td>39.0</td>\n",
       "      <td>17.0</td>\n",
       "    </tr>\n",
       "    <tr>\n",
       "      <th>17958</th>\n",
       "      <td>0</td>\n",
       "      <td>Hard</td>\n",
       "      <td>20150601</td>\n",
       "      <td>105692</td>\n",
       "      <td>R</td>\n",
       "      <td>184.686559</td>\n",
       "      <td>24.366872</td>\n",
       "      <td>105718</td>\n",
       "      <td>R</td>\n",
       "      <td>184.686559</td>\n",
       "      <td>24.260096</td>\n",
       "      <td>473.0</td>\n",
       "      <td>1108.0</td>\n",
       "    </tr>\n",
       "  </tbody>\n",
       "</table>\n",
       "</div>"
      ],
      "text/plain": [
       "       label surface  tourney_date  player1_id player1_hand  player1_ht  \\\n",
       "12599      1    Hard      20100412      105585            R  188.000000   \n",
       "27282      0    Hard      20160926      106254            U  184.686559   \n",
       "2659       1    Hard      20021111      102845            R  190.000000   \n",
       "639        1    Hard      20061009      103781            L  183.000000   \n",
       "17958      0    Hard      20150601      105692            R  184.686559   \n",
       "\n",
       "       player1_age  player2_id player2_hand  player2_ht  player2_age  \\\n",
       "12599    19.772758      104636            R  184.686559    24.407940   \n",
       "27282    22.929500      111156            U  184.686559    24.199863   \n",
       "2659     26.206708      102610            R  180.000000    27.381246   \n",
       "639      25.382615      103507            R  183.000000    26.655715   \n",
       "17958    24.366872      105718            R  184.686559    24.260096   \n",
       "\n",
       "       player1_rank  player2_rank  \n",
       "12599         490.0        1781.0  \n",
       "27282        1188.0        1064.0  \n",
       "2659            5.0          11.0  \n",
       "639            39.0          17.0  \n",
       "17958         473.0        1108.0  "
      ]
     },
     "execution_count": 20,
     "metadata": {},
     "output_type": "execute_result"
    }
   ],
   "source": [
    "## replace winner/loser with player1 & 2\n",
    "for (colName, colData) in df.iteritems():\n",
    "    if \"winner\" in colName:\n",
    "        endingVal = colName.split(\"_\")[1]\n",
    "        df.rename(columns={colName: f\"player1_{endingVal}\"}, inplace=True)\n",
    "    elif \"loser\" in colName:\n",
    "        endingVal = colName.split(\"_\")[1]\n",
    "        df.rename(columns={colName: f\"player2_{endingVal}\"}, inplace=True)\n",
    "\n",
    "first_half, second_half = df[:int(len(df) / 2)], df[int(len(df) / 2):]\n",
    "first_half.insert(loc=0, column=\"label\", value=1)\n",
    "\n",
    "## swap columns\n",
    "scols = list(second_half.columns)\n",
    "\n",
    "np.warnings.filterwarnings('ignore')\n",
    "\n",
    "## swap the columns for the second half\n",
    "for attr in [\"id\", \"hand\", \"ht\", \"age\", \"rank\"]:\n",
    "    scols[scols.index(f\"player1_{attr}\")], scols[scols.index(f\"player2_{attr}\")] = scols[scols.index(f\"player2_{attr}\")], scols[scols.index(f\"player1_{attr}\")]\n",
    "    # second_half.insert(loc=0, column=\"label\", value=0)\n",
    "    second_half[\"label\"] = 0\n",
    "\n",
    "halves = []\n",
    "\n",
    "df = pd.concat([first_half, second_half])\n",
    "df.sample(5)"
   ]
  },
  {
   "cell_type": "markdown",
   "id": "3e4a68eb",
   "metadata": {},
   "source": [
    "### Visualize data"
   ]
  },
  {
   "cell_type": "code",
   "execution_count": 21,
   "id": "4b2af06d",
   "metadata": {
    "scrolled": true
   },
   "outputs": [],
   "source": [
    "# cols = [\"player1_rank\", \"player2_rank\", \"player1_age\", \"player2_age\", \"player1_ht\", \"player2_ht\"]\n",
    "\n",
    "# plt.figure(1, figsize=(18, 8))\n",
    "\n",
    "# for i in range(6):\n",
    "#     plt.subplot(2, 3, i + 1)\n",
    "#     df[cols[i]].plot(kind=\"hist\", title=cols[i])\n",
    "\n",
    "# # plt.ylim([0, 10])\n",
    "# # plt.xlim([0, 10])\n",
    "# plt.show()"
   ]
  },
  {
   "cell_type": "markdown",
   "id": "981b5daa",
   "metadata": {},
   "source": [
    "### Prepare data for ML models"
   ]
  },
  {
   "cell_type": "code",
   "execution_count": 33,
   "id": "d4cd374d",
   "metadata": {},
   "outputs": [],
   "source": [
    "## convert categorical values (player hand, surface) to numbers\n",
    "le = LabelEncoder()\n",
    "df[\"surface\"] = le.fit_transform(df[\"surface\"])\n",
    "df[\"player1_hand\"] = le.fit_transform(df[\"player1_hand\"])\n",
    "df[\"player2_hand\"] = le.fit_transform(df[\"player2_hand\"])\n",
    "\n",
    "features = [\"player1_ht\", \"player2_ht\", \"player1_age\", \"player2_age\", \"player1_rank\", \"player2_rank\", \"surface\", \"player1_hand\", \"player2_hand\"]\n",
    "X = df[features]\n",
    "y = df[\"label\"]\n",
    "\n",
    "X_train, X_val, y_train, y_val = train_test_split(X, y, test_size=0.2, random_state=42)\n"
   ]
  },
  {
   "cell_type": "markdown",
   "id": "87cbc84e",
   "metadata": {},
   "source": [
    "### Logistic Regression"
   ]
  },
  {
   "cell_type": "code",
   "execution_count": 31,
   "id": "96d7b0f1",
   "metadata": {},
   "outputs": [
    {
     "name": "stdout",
     "output_type": "stream",
     "text": [
      "training accuracy: 0.6062470593507047\n",
      "validation accuracy: 0.60628227676521\n"
     ]
    }
   ],
   "source": [
    "clf_1 = LogisticRegression()\n",
    "\n",
    "## training the model\n",
    "clf_1.fit(X_train, y_train)\n",
    "y_pred_train_1 = clf_1.predict(X_train)\n",
    "acc_train_1 = clf_1.score(X_train, y_train)\n",
    "accuracy_1 = clf_1.score(X, y)\n",
    "\n",
    "## validation\n",
    "y_pred_val_1 = clf_1.predict(X_val)\n",
    "acc_val_1 = clf_1.score(X_val, y_val)\n",
    "\n",
    "print(f\"training accuracy: {acc_train_1}\")\n",
    "print(f\"validation accuracy: {acc_val_1}\")"
   ]
  },
  {
   "cell_type": "markdown",
   "id": "0d5a2a61",
   "metadata": {},
   "source": [
    "### Support Vector Machines"
   ]
  },
  {
   "cell_type": "code",
   "execution_count": null,
   "id": "3944b49e",
   "metadata": {},
   "outputs": [],
   "source": [
    "## diminish the array for SVM (depending on GPU-capacity, choose the diminisher value)\n",
    "df_svm = df.sample(int(len(df) * 0.02))\n",
    "\n",
    "X_svm, y_svm = df_svm[features], df_svm[\"label\"]\n",
    "\n",
    "X_svm_train, X_svm_val, y_svm_train, y_svm_val = train_test_split(X_svm, y_svm, test_size=0.2, random_state=42)\n",
    "\n",
    "clf_2 = svm.SVC()\n",
    "clf_2.fit(X_svm_train, y_svm_train)\n",
    "y_pred_train_2 = clf_2.predict(X_svm_train)\n",
    "acc_train_2 = clf_2.score(X_svm_val, y_svm_val)\n",
    "y_pred_val_2 = clf_2.predict(X_svm_val)\n",
    "acc_val_2 = clf_2.score(X_svm_val, y_svm_val)\n",
    "\n",
    "print(f\"training accuracy: {acc_train_2}\")\n",
    "print(f\"validation accuracy: {acc_val_2}\")"
   ]
  },
  {
   "cell_type": "markdown",
   "id": "8648189d",
   "metadata": {},
   "source": [
    "### Confusion matrix"
   ]
  },
  {
   "cell_type": "code",
   "execution_count": 25,
   "id": "ac86aeda",
   "metadata": {},
   "outputs": [
    {
     "ename": "NameError",
     "evalue": "name 'y_pred_train' is not defined",
     "output_type": "error",
     "traceback": [
      "\u001b[0;31m---------------------------------------------------------------------------\u001b[0m",
      "\u001b[0;31mNameError\u001b[0m                                 Traceback (most recent call last)",
      "\u001b[0;32m/tmp/ipykernel_8821/624592512.py\u001b[0m in \u001b[0;36m<module>\u001b[0;34m\u001b[0m\n\u001b[0;32m----> 1\u001b[0;31m \u001b[0mconf_mat\u001b[0m \u001b[0;34m=\u001b[0m \u001b[0mconfusion_matrix\u001b[0m\u001b[0;34m(\u001b[0m\u001b[0my\u001b[0m\u001b[0;34m,\u001b[0m \u001b[0mnp\u001b[0m\u001b[0;34m.\u001b[0m\u001b[0mconcatenate\u001b[0m\u001b[0;34m(\u001b[0m\u001b[0;34m[\u001b[0m\u001b[0my_pred_train\u001b[0m\u001b[0;34m,\u001b[0m \u001b[0my_pred_val\u001b[0m\u001b[0;34m]\u001b[0m\u001b[0;34m)\u001b[0m\u001b[0;34m)\u001b[0m\u001b[0;34m\u001b[0m\u001b[0;34m\u001b[0m\u001b[0m\n\u001b[0m\u001b[1;32m      2\u001b[0m \u001b[0;34m\u001b[0m\u001b[0m\n\u001b[1;32m      3\u001b[0m \u001b[0;31m## calculate the precision by dividing TP by (TP + FP)\u001b[0m\u001b[0;34m\u001b[0m\u001b[0;34m\u001b[0m\u001b[0m\n\u001b[1;32m      4\u001b[0m \u001b[0;31m## it denotes the proportion of true positives in total positives\u001b[0m\u001b[0;34m\u001b[0m\u001b[0;34m\u001b[0m\u001b[0m\n\u001b[1;32m      5\u001b[0m \u001b[0mtrue_pos\u001b[0m \u001b[0;34m=\u001b[0m \u001b[0mconf_mat\u001b[0m\u001b[0;34m[\u001b[0m\u001b[0;36m1\u001b[0m\u001b[0;34m]\u001b[0m\u001b[0;34m[\u001b[0m\u001b[0;36m1\u001b[0m\u001b[0;34m]\u001b[0m\u001b[0;34m\u001b[0m\u001b[0;34m\u001b[0m\u001b[0m\n",
      "\u001b[0;31mNameError\u001b[0m: name 'y_pred_train' is not defined"
     ]
    }
   ],
   "source": [
    "conf_mat = confusion_matrix(y, np.concatenate([y_pred_train, y_pred_val]))\n",
    "\n",
    "## calculate the precision by dividing TP by (TP + FP)\n",
    "## it denotes the proportion of true positives in total positives\n",
    "true_pos = conf_mat[1][1]\n",
    "false_pos = conf_mat[0][1]\n",
    "precision = true_pos / (true_pos + false_pos)\n",
    "\n",
    "print(f\"precision: {precision}\")"
   ]
  },
  {
   "cell_type": "markdown",
   "id": "51ae9ce0",
   "metadata": {},
   "source": [
    "### Visualize"
   ]
  },
  {
   "cell_type": "code",
   "execution_count": null,
   "id": "a81983e5",
   "metadata": {},
   "outputs": [],
   "source": [
    "ax = plt.subplot()\n",
    "sns.heatmap(conf_mat, annot=True, fmt='g', ax=ax)\n",
    "\n",
    "fontsize = 14\n",
    "\n",
    "ax.set_title(\"Confusion matrix\", fontsize=fontsize)\n",
    "ax.set_xlabel(\"Predictions\", fontsize=fontsize)\n",
    "ax.set_ylabel(\"True values\", fontsize=fontsize)\n",
    "ax.xaxis.set_ticklabels([\"L\", \"W\"], fontsize=fontsize)\n",
    "ax.yaxis.set_ticklabels([\"L\", \"W\"], fontsize=fontsize)"
   ]
  }
 ],
 "metadata": {
  "kernelspec": {
   "display_name": "Python 3 (ipykernel)",
   "language": "python",
   "name": "python3"
  },
  "language_info": {
   "codemirror_mode": {
    "name": "ipython",
    "version": 3
   },
   "file_extension": ".py",
   "mimetype": "text/x-python",
   "name": "python",
   "nbconvert_exporter": "python",
   "pygments_lexer": "ipython3",
   "version": "3.9.7"
  }
 },
 "nbformat": 4,
 "nbformat_minor": 5
}
